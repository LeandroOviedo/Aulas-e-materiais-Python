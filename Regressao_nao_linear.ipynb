{
  "nbformat": 4,
  "nbformat_minor": 0,
  "metadata": {
    "colab": {
      "provenance": []
    },
    "kernelspec": {
      "name": "python3",
      "display_name": "Python 3"
    },
    "language_info": {
      "name": "python"
    }
  },
  "cells": [
    {
      "cell_type": "code",
      "execution_count": null,
      "metadata": {
        "colab": {
          "base_uri": "https://localhost:8080/"
        },
        "id": "-8w59SQSTZzJ",
        "outputId": "0c87da31-9bec-4cfe-8298-a8ea076dd607"
      },
      "outputs": [
        {
          "output_type": "stream",
          "name": "stdout",
          "text": [
            "Python 3.12.11\n"
          ]
        }
      ],
      "source": [
        "! python --version"
      ]
    },
    {
      "cell_type": "code",
      "source": [
        "! pip install lmfit -q"
      ],
      "metadata": {
        "id": "BFJWv77IYVVL",
        "colab": {
          "base_uri": "https://localhost:8080/"
        },
        "outputId": "35755476-fe5d-481b-b292-404d2de8b9be"
      },
      "execution_count": null,
      "outputs": [
        {
          "output_type": "stream",
          "name": "stdout",
          "text": [
            "\u001b[?25l   \u001b[90m━━━━━━━━━━━━━━━━━━━━━━━━━━━━━━━━━━━━━━━━\u001b[0m \u001b[32m0.0/97.7 kB\u001b[0m \u001b[31m?\u001b[0m eta \u001b[36m-:--:--\u001b[0m\r\u001b[2K   \u001b[90m━━━━━━━━━━━━━━━━━━━━━━━━━━━━━━━━━━━━━━━━\u001b[0m \u001b[32m97.7/97.7 kB\u001b[0m \u001b[31m5.6 MB/s\u001b[0m eta \u001b[36m0:00:00\u001b[0m\n",
            "\u001b[?25h\u001b[?25l   \u001b[90m━━━━━━━━━━━━━━━━━━━━━━━━━━━━━━━━━━━━━━━━\u001b[0m \u001b[32m0.0/60.1 kB\u001b[0m \u001b[31m?\u001b[0m eta \u001b[36m-:--:--\u001b[0m\r\u001b[2K   \u001b[90m━━━━━━━━━━━━━━━━━━━━━━━━━━━━━━━━━━━━━━━━\u001b[0m \u001b[32m60.1/60.1 kB\u001b[0m \u001b[31m3.1 MB/s\u001b[0m eta \u001b[36m0:00:00\u001b[0m\n",
            "\u001b[?25h"
          ]
        }
      ]
    },
    {
      "cell_type": "code",
      "source": [
        "import numpy as np # pacote para operações matemáticas\n",
        "import pandas as pd # construção de planilhas\n",
        "import matplotlib.pyplot as plt # plotagem de gráficos\n",
        "import lmfit as lm # Regressão não linear\n",
        "from IPython import display\n",
        "display.set_matplotlib_formats('svg')"
      ],
      "metadata": {
        "colab": {
          "base_uri": "https://localhost:8080/"
        },
        "id": "lLnU5Z9XY5Uu",
        "outputId": "2fc66b0f-0c27-48a1-dc96-49796548444d"
      },
      "execution_count": null,
      "outputs": [
        {
          "output_type": "stream",
          "name": "stderr",
          "text": [
            "/tmp/ipython-input-2846265170.py:6: DeprecationWarning: `set_matplotlib_formats` is deprecated since IPython 7.23, directly use `matplotlib_inline.backend_inline.set_matplotlib_formats()`\n",
            "  display.set_matplotlib_formats('svg')\n"
          ]
        }
      ]
    },
    {
      "cell_type": "markdown",
      "source": [
        "Importando os dados experimentais"
      ],
      "metadata": {
        "id": "f3CqP6zFYZ_e"
      }
    },
    {
      "cell_type": "code",
      "source": [
        "time= [0,\n",
        "       3,\n",
        "       5,\n",
        "       10,\n",
        "       15,\n",
        "       20,\n",
        "       30,\n",
        "       45,\n",
        "       60,\n",
        "       75,\n",
        "       90,\n",
        "       120,\n",
        "       150,\n",
        "       180,\n",
        "       210,\n",
        "       240]\n",
        "\n",
        "CCo_exp = [0.025,\n",
        "            0.041,\n",
        "            0.041,\n",
        "            0.050,\n",
        "            0.074,\n",
        "            0.099,\n",
        "            0.132,\n",
        "            0.347,\n",
        "            0.579,\n",
        "            0.694,\n",
        "            0.760,\n",
        "            0.950,\n",
        "            0.967,\n",
        "            0.983,\n",
        "            0.992,\n",
        "            1.000]"
      ],
      "metadata": {
        "id": "WFdJLNpfYUaH"
      },
      "execution_count": null,
      "outputs": []
    },
    {
      "cell_type": "markdown",
      "source": [
        "**Yoon-Nelson Model**\n",
        "\n",
        "# $\\frac{C_t}{C_0}=\\frac{1}{1+e^{K_{YN}(\\tau-t)}}$\n",
        "\n",
        "where,\n",
        "\n",
        "$K_{YN}$ is the rate constant ($min^{-1}$)\n",
        "\n",
        "$\\tau$ is time required for 50 % adsorbate breakthrough ($min$)\n",
        "\n",
        "$\\ \\$\n",
        "\n",
        "------------------------------------------------------------------------\n",
        "\n",
        "$\\ \\$\n",
        "\n",
        "Eixo $x$ ~ tempo ($t$) / Eixo $y$ ~ $\\frac{C_{t}}{C_0^{-1}}$"
      ],
      "metadata": {
        "id": "rxiGKrQmZE_-"
      }
    },
    {
      "cell_type": "code",
      "source": [
        "def Yoon_Nelson(t,kYN,tau):\n",
        "  # C/Co = 1/(1+exp*(kYN(tau-t)) )\n",
        "  return 1 / (1 + np.exp(kYN*(tau-t)))"
      ],
      "metadata": {
        "id": "Kl-FcK4uZsXQ"
      },
      "execution_count": null,
      "outputs": []
    },
    {
      "cell_type": "code",
      "source": [
        "CCo_pred = np.empty(len(CCo_exp))\n",
        "\n",
        "modelo_YN = lm.Model(Yoon_Nelson)\n",
        "modelo_YN_parametros = modelo_YN.make_params(kYN=0.2,tau=0.5)\n",
        "reg_modelo_YN = modelo_YN.fit(CCo_exp,modelo_YN_parametros,t=time)\n",
        "\n",
        "reg_modelo_YN"
      ],
      "metadata": {
        "colab": {
          "base_uri": "https://localhost:8080/",
          "height": 464
        },
        "id": "hBr3gQN1aEP7",
        "outputId": "f3a69be3-9647-4499-9252-06fe83112df9"
      },
      "execution_count": null,
      "outputs": [
        {
          "output_type": "execute_result",
          "data": {
            "text/plain": [
              "<lmfit.model.ModelResult at 0x7f66b0f22240>"
            ],
            "text/html": [
              "<h2>Fit Result</h2> <p>Model: Model(Yoon_Nelson)</p> <table class=\"jp-toc-ignore\"><caption class=\"jp-toc-ignore\">Fit Statistics</caption><tr><td style='text-align:left'>fitting method</td><td style='text-align:right'>leastsq</td></tr><tr><td style='text-align:left'># function evals</td><td style='text-align:right'>35</td></tr><tr><td style='text-align:left'># data points</td><td style='text-align:right'>16</td></tr><tr><td style='text-align:left'># variables</td><td style='text-align:right'>2</td></tr><tr><td style='text-align:left'>chi-square</td><td style='text-align:right'> 0.01536572</td></tr><tr><td style='text-align:left'>reduced chi-square</td><td style='text-align:right'> 0.00109755</td></tr><tr><td style='text-align:left'>Akaike info crit.</td><td style='text-align:right'>-107.171281</td></tr><tr><td style='text-align:left'>Bayesian info crit.</td><td style='text-align:right'>-105.626104</td></tr><tr><td style='text-align:left'>R-squared</td><td style='text-align:right'> 0.99409827</td></tr></table><table class=\"jp-toc-ignore\"><caption>Parameters</caption><tr><th style='text-align:left'>name</th><th style='text-align:left'>value</th><th style='text-align:left'>standard error</th><th style='text-align:left'>relative error</th><th style='text-align:left'>initial value</th><th style='text-align:left'>min</th><th style='text-align:left'>max</th><th style='text-align:right'>vary</th></tr><tr><td style='text-align:left'>kYN</td><td style='text-align:left'> 0.05277767</td><td style='text-align:left'> 0.00308866</td><td style='text-align:left'>(5.85%)</td><td style='text-align:left'>0.2</td><td style='text-align:left'>       -inf</td><td style='text-align:left'>        inf</td><td style='text-align:right'>True</td></tr><tr><td style='text-align:left'>tau</td><td style='text-align:left'> 59.2701458</td><td style='text-align:left'> 1.36101555</td><td style='text-align:left'>(2.30%)</td><td style='text-align:left'>0.5</td><td style='text-align:left'>       -inf</td><td style='text-align:left'>        inf</td><td style='text-align:right'>True</td></tr></table><table class=\"jp-toc-ignore\"><caption>Correlations (unreported values are < 0.100)</caption><tr><th style='text-align:left'>Parameter1</th><th style='text-align:left'>Parameter 2</th><th style='text-align:right'>Correlation</th></tr><tr><td style='text-align:left'>kYN</td><td style='text-align:left'>tau</td><td style='text-align:right'>-0.2128</td></tr></table>"
            ]
          },
          "metadata": {},
          "execution_count": 7
        }
      ]
    },
    {
      "cell_type": "code",
      "source": [
        "K = len(reg_modelo_YN.params)\n",
        "N = len(time)\n",
        "\n",
        "print(f'Tenho {K} parâmetros')\n",
        "print(f'Tenho {N} dados',N)\n",
        "\n",
        "print('Tenho {0:d} parâmetros e {1:d} dados'.format(K,N))"
      ],
      "metadata": {
        "colab": {
          "base_uri": "https://localhost:8080/"
        },
        "id": "oAoh09Vqb0Za",
        "outputId": "82098047-0626-4725-e9bb-ba2d8728655f"
      },
      "execution_count": null,
      "outputs": [
        {
          "output_type": "stream",
          "name": "stdout",
          "text": [
            "Tenho 2 parâmetros\n",
            "Tenho 16 dados 16\n",
            "Tenho 2 parâmetros e 16 dados\n"
          ]
        }
      ]
    },
    {
      "cell_type": "markdown",
      "source": [
        "![image.png](data:image/png;base64,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)"
      ],
      "metadata": {
        "id": "hXutdgEafrt9"
      }
    },
    {
      "cell_type": "code",
      "source": [
        "R2 = reg_modelo_YN.rsquared\n",
        "R2_ajd = 1-((1-R2)*(N-1)/(N-K-1))\n",
        "\n",
        "print(f'R²: {R2}\\nR² ajustado: {R2_ajd}')"
      ],
      "metadata": {
        "colab": {
          "base_uri": "https://localhost:8080/"
        },
        "id": "9yHtFt6ibV-I",
        "outputId": "9c8fb560-b287-4606-ba6f-5befc6b1173d"
      },
      "execution_count": null,
      "outputs": [
        {
          "output_type": "stream",
          "name": "stdout",
          "text": [
            "R²: 0.9940982658793455\n",
            "R² ajustado: 0.9931903067838601\n"
          ]
        }
      ]
    },
    {
      "cell_type": "code",
      "source": [
        "reg_modelo_YN.plot(numpoints=100)"
      ],
      "metadata": {
        "colab": {
          "base_uri": "https://localhost:8080/",
          "height": 1000
        },
        "id": "95KqMQJxgDKa",
        "outputId": "7f0a3586-df75-4727-f4b2-14249665adb4"
      },
      "execution_count": null,
      "outputs": [
        {
          "output_type": "execute_result",
          "data": {
            "text/plain": [
              "<Figure size 640x640 with 2 Axes>"
            ],
            "image/svg+xml": "<?xml version=\"1.0\" encoding=\"utf-8\" standalone=\"no\"?>\n<!DOCTYPE svg PUBLIC \"-//W3C//DTD SVG 1.1//EN\"\n  \"http://www.w3.org/Graphics/SVG/1.1/DTD/svg11.dtd\">\n<svg xmlns:xlink=\"http://www.w3.org/1999/xlink\" width=\"429.681733pt\" height=\"414.690375pt\" viewBox=\"0 0 429.681733 414.690375\" xmlns=\"http://www.w3.org/2000/svg\" version=\"1.1\">\n <metadata>\n  <rdf:RDF xmlns:dc=\"http://purl.org/dc/elements/1.1/\" xmlns:cc=\"http://creativecommons.org/ns#\" xmlns:rdf=\"http://www.w3.org/1999/02/22-rdf-syntax-ns#\">\n   <cc:Work>\n    <dc:type rdf:resource=\"http://purl.org/dc/dcmitype/StillImage\"/>\n    <dc:date>2025-09-08T18:45:36.058624</dc:date>\n    <dc:format>image/svg+xml</dc:format>\n    <dc:creator>\n     <cc:Agent>\n      <dc:title>Matplotlib v3.10.0, https://matplotlib.org/</dc:title>\n     </cc:Agent>\n    </dc:creator>\n   </cc:Work>\n  </rdf:RDF>\n </metadata>\n <defs>\n  <style type=\"text/css\">*{stroke-linejoin: round; stroke-linecap: butt}</style>\n </defs>\n <g id=\"figure_1\">\n  <g id=\"patch_1\">\n   <path d=\"M 0 414.690375 \nL 429.681733 414.690375 \nL 429.681733 0 \nL 0 0 \nz\n\" style=\"fill: #ffffff\"/>\n  </g>\n  <g id=\"axes_1\">\n   <g id=\"patch_2\">\n    <path d=\"M 58.523438 86.830125 \nL 415.643438 86.830125 \nL 415.643438 22.318125 \nL 58.523438 22.318125 \nz\n\" style=\"fill: #ffffff\"/>\n   </g>\n   <g id=\"matplotlib.axis_1\">\n    <g id=\"xtick_1\">\n     <g id=\"line2d_1\">\n      <defs>\n       <path id=\"m0434c31944\" d=\"M 0 0 \nL 0 3.5 \n\" style=\"stroke: #000000; stroke-width: 0.8\"/>\n      </defs>\n      <g>\n       <use xlink:href=\"#m0434c31944\" x=\"74.756165\" y=\"86.830125\" style=\"stroke: #000000; stroke-width: 0.8\"/>\n      </g>\n     </g>\n    </g>\n    <g id=\"xtick_2\">\n     <g id=\"line2d_2\">\n      <g>\n       <use xlink:href=\"#m0434c31944\" x=\"142.392528\" y=\"86.830125\" style=\"stroke: #000000; stroke-width: 0.8\"/>\n      </g>\n     </g>\n    </g>\n    <g id=\"xtick_3\">\n     <g id=\"line2d_3\">\n      <g>\n       <use xlink:href=\"#m0434c31944\" x=\"210.028892\" y=\"86.830125\" style=\"stroke: #000000; stroke-width: 0.8\"/>\n      </g>\n     </g>\n    </g>\n    <g id=\"xtick_4\">\n     <g id=\"line2d_4\">\n      <g>\n       <use xlink:href=\"#m0434c31944\" x=\"277.665256\" y=\"86.830125\" style=\"stroke: #000000; stroke-width: 0.8\"/>\n      </g>\n     </g>\n    </g>\n    <g id=\"xtick_5\">\n     <g id=\"line2d_5\">\n      <g>\n       <use xlink:href=\"#m0434c31944\" x=\"345.301619\" y=\"86.830125\" style=\"stroke: #000000; stroke-width: 0.8\"/>\n      </g>\n     </g>\n    </g>\n    <g id=\"xtick_6\">\n     <g id=\"line2d_6\">\n      <g>\n       <use xlink:href=\"#m0434c31944\" x=\"412.937983\" y=\"86.830125\" style=\"stroke: #000000; stroke-width: 0.8\"/>\n      </g>\n     </g>\n    </g>\n   </g>\n   <g id=\"matplotlib.axis_2\">\n    <g id=\"ytick_1\">\n     <g id=\"line2d_7\">\n      <defs>\n       <path id=\"m46210c3cd8\" d=\"M 0 0 \nL -3.5 0 \n\" style=\"stroke: #000000; stroke-width: 0.8\"/>\n      </defs>\n      <g>\n       <use xlink:href=\"#m46210c3cd8\" x=\"58.523438\" y=\"73.725296\" style=\"stroke: #000000; stroke-width: 0.8\"/>\n      </g>\n     </g>\n     <g id=\"text_1\">\n      <!-- −0.05 -->\n      <g transform=\"translate(20.878125 77.524514) scale(0.1 -0.1)\">\n       <defs>\n        <path id=\"DejaVuSans-2212\" d=\"M 678 2272 \nL 4684 2272 \nL 4684 1741 \nL 678 1741 \nL 678 2272 \nz\n\" transform=\"scale(0.015625)\"/>\n        <path id=\"DejaVuSans-30\" d=\"M 2034 4250 \nQ 1547 4250 1301 3770 \nQ 1056 3291 1056 2328 \nQ 1056 1369 1301 889 \nQ 1547 409 2034 409 \nQ 2525 409 2770 889 \nQ 3016 1369 3016 2328 \nQ 3016 3291 2770 3770 \nQ 2525 4250 2034 4250 \nz\nM 2034 4750 \nQ 2819 4750 3233 4129 \nQ 3647 3509 3647 2328 \nQ 3647 1150 3233 529 \nQ 2819 -91 2034 -91 \nQ 1250 -91 836 529 \nQ 422 1150 422 2328 \nQ 422 3509 836 4129 \nQ 1250 4750 2034 4750 \nz\n\" transform=\"scale(0.015625)\"/>\n        <path id=\"DejaVuSans-2e\" d=\"M 684 794 \nL 1344 794 \nL 1344 0 \nL 684 0 \nL 684 794 \nz\n\" transform=\"scale(0.015625)\"/>\n        <path id=\"DejaVuSans-35\" d=\"M 691 4666 \nL 3169 4666 \nL 3169 4134 \nL 1269 4134 \nL 1269 2991 \nQ 1406 3038 1543 3061 \nQ 1681 3084 1819 3084 \nQ 2600 3084 3056 2656 \nQ 3513 2228 3513 1497 \nQ 3513 744 3044 326 \nQ 2575 -91 1722 -91 \nQ 1428 -91 1123 -41 \nQ 819 9 494 109 \nL 494 744 \nQ 775 591 1075 516 \nQ 1375 441 1709 441 \nQ 2250 441 2565 725 \nQ 2881 1009 2881 1497 \nQ 2881 1984 2565 2268 \nQ 2250 2553 1709 2553 \nQ 1456 2553 1204 2497 \nQ 953 2441 691 2322 \nL 691 4666 \nz\n\" transform=\"scale(0.015625)\"/>\n       </defs>\n       <use xlink:href=\"#DejaVuSans-2212\"/>\n       <use xlink:href=\"#DejaVuSans-30\" transform=\"translate(83.789062 0)\"/>\n       <use xlink:href=\"#DejaVuSans-2e\" transform=\"translate(147.412109 0)\"/>\n       <use xlink:href=\"#DejaVuSans-30\" transform=\"translate(179.199219 0)\"/>\n       <use xlink:href=\"#DejaVuSans-35\" transform=\"translate(242.822266 0)\"/>\n      </g>\n     </g>\n    </g>\n    <g id=\"ytick_2\">\n     <g id=\"line2d_8\">\n      <g>\n       <use xlink:href=\"#m46210c3cd8\" x=\"58.523438\" y=\"53.421063\" style=\"stroke: #000000; stroke-width: 0.8\"/>\n      </g>\n     </g>\n     <g id=\"text_2\">\n      <!-- 0.00 -->\n      <g transform=\"translate(29.257813 57.220282) scale(0.1 -0.1)\">\n       <use xlink:href=\"#DejaVuSans-30\"/>\n       <use xlink:href=\"#DejaVuSans-2e\" transform=\"translate(63.623047 0)\"/>\n       <use xlink:href=\"#DejaVuSans-30\" transform=\"translate(95.410156 0)\"/>\n       <use xlink:href=\"#DejaVuSans-30\" transform=\"translate(159.033203 0)\"/>\n      </g>\n     </g>\n    </g>\n    <g id=\"ytick_3\">\n     <g id=\"line2d_9\">\n      <g>\n       <use xlink:href=\"#m46210c3cd8\" x=\"58.523438\" y=\"33.116831\" style=\"stroke: #000000; stroke-width: 0.8\"/>\n      </g>\n     </g>\n     <g id=\"text_3\">\n      <!-- 0.05 -->\n      <g transform=\"translate(29.257813 36.91605) scale(0.1 -0.1)\">\n       <use xlink:href=\"#DejaVuSans-30\"/>\n       <use xlink:href=\"#DejaVuSans-2e\" transform=\"translate(63.623047 0)\"/>\n       <use xlink:href=\"#DejaVuSans-30\" transform=\"translate(95.410156 0)\"/>\n       <use xlink:href=\"#DejaVuSans-35\" transform=\"translate(159.033203 0)\"/>\n      </g>\n     </g>\n    </g>\n    <g id=\"text_4\">\n     <!-- residuals -->\n     <g transform=\"translate(14.798438 76.988188) rotate(-90) scale(0.1 -0.1)\">\n      <defs>\n       <path id=\"DejaVuSans-72\" d=\"M 2631 2963 \nQ 2534 3019 2420 3045 \nQ 2306 3072 2169 3072 \nQ 1681 3072 1420 2755 \nQ 1159 2438 1159 1844 \nL 1159 0 \nL 581 0 \nL 581 3500 \nL 1159 3500 \nL 1159 2956 \nQ 1341 3275 1631 3429 \nQ 1922 3584 2338 3584 \nQ 2397 3584 2469 3576 \nQ 2541 3569 2628 3553 \nL 2631 2963 \nz\n\" transform=\"scale(0.015625)\"/>\n       <path id=\"DejaVuSans-65\" d=\"M 3597 1894 \nL 3597 1613 \nL 953 1613 \nQ 991 1019 1311 708 \nQ 1631 397 2203 397 \nQ 2534 397 2845 478 \nQ 3156 559 3463 722 \nL 3463 178 \nQ 3153 47 2828 -22 \nQ 2503 -91 2169 -91 \nQ 1331 -91 842 396 \nQ 353 884 353 1716 \nQ 353 2575 817 3079 \nQ 1281 3584 2069 3584 \nQ 2775 3584 3186 3129 \nQ 3597 2675 3597 1894 \nz\nM 3022 2063 \nQ 3016 2534 2758 2815 \nQ 2500 3097 2075 3097 \nQ 1594 3097 1305 2825 \nQ 1016 2553 972 2059 \nL 3022 2063 \nz\n\" transform=\"scale(0.015625)\"/>\n       <path id=\"DejaVuSans-73\" d=\"M 2834 3397 \nL 2834 2853 \nQ 2591 2978 2328 3040 \nQ 2066 3103 1784 3103 \nQ 1356 3103 1142 2972 \nQ 928 2841 928 2578 \nQ 928 2378 1081 2264 \nQ 1234 2150 1697 2047 \nL 1894 2003 \nQ 2506 1872 2764 1633 \nQ 3022 1394 3022 966 \nQ 3022 478 2636 193 \nQ 2250 -91 1575 -91 \nQ 1294 -91 989 -36 \nQ 684 19 347 128 \nL 347 722 \nQ 666 556 975 473 \nQ 1284 391 1588 391 \nQ 1994 391 2212 530 \nQ 2431 669 2431 922 \nQ 2431 1156 2273 1281 \nQ 2116 1406 1581 1522 \nL 1381 1569 \nQ 847 1681 609 1914 \nQ 372 2147 372 2553 \nQ 372 3047 722 3315 \nQ 1072 3584 1716 3584 \nQ 2034 3584 2315 3537 \nQ 2597 3491 2834 3397 \nz\n\" transform=\"scale(0.015625)\"/>\n       <path id=\"DejaVuSans-69\" d=\"M 603 3500 \nL 1178 3500 \nL 1178 0 \nL 603 0 \nL 603 3500 \nz\nM 603 4863 \nL 1178 4863 \nL 1178 4134 \nL 603 4134 \nL 603 4863 \nz\n\" transform=\"scale(0.015625)\"/>\n       <path id=\"DejaVuSans-64\" d=\"M 2906 2969 \nL 2906 4863 \nL 3481 4863 \nL 3481 0 \nL 2906 0 \nL 2906 525 \nQ 2725 213 2448 61 \nQ 2172 -91 1784 -91 \nQ 1150 -91 751 415 \nQ 353 922 353 1747 \nQ 353 2572 751 3078 \nQ 1150 3584 1784 3584 \nQ 2172 3584 2448 3432 \nQ 2725 3281 2906 2969 \nz\nM 947 1747 \nQ 947 1113 1208 752 \nQ 1469 391 1925 391 \nQ 2381 391 2643 752 \nQ 2906 1113 2906 1747 \nQ 2906 2381 2643 2742 \nQ 2381 3103 1925 3103 \nQ 1469 3103 1208 2742 \nQ 947 2381 947 1747 \nz\n\" transform=\"scale(0.015625)\"/>\n       <path id=\"DejaVuSans-75\" d=\"M 544 1381 \nL 544 3500 \nL 1119 3500 \nL 1119 1403 \nQ 1119 906 1312 657 \nQ 1506 409 1894 409 \nQ 2359 409 2629 706 \nQ 2900 1003 2900 1516 \nL 2900 3500 \nL 3475 3500 \nL 3475 0 \nL 2900 0 \nL 2900 538 \nQ 2691 219 2414 64 \nQ 2138 -91 1772 -91 \nQ 1169 -91 856 284 \nQ 544 659 544 1381 \nz\nM 1991 3584 \nL 1991 3584 \nz\n\" transform=\"scale(0.015625)\"/>\n       <path id=\"DejaVuSans-61\" d=\"M 2194 1759 \nQ 1497 1759 1228 1600 \nQ 959 1441 959 1056 \nQ 959 750 1161 570 \nQ 1363 391 1709 391 \nQ 2188 391 2477 730 \nQ 2766 1069 2766 1631 \nL 2766 1759 \nL 2194 1759 \nz\nM 3341 1997 \nL 3341 0 \nL 2766 0 \nL 2766 531 \nQ 2569 213 2275 61 \nQ 1981 -91 1556 -91 \nQ 1019 -91 701 211 \nQ 384 513 384 1019 \nQ 384 1609 779 1909 \nQ 1175 2209 1959 2209 \nL 2766 2209 \nL 2766 2266 \nQ 2766 2663 2505 2880 \nQ 2244 3097 1772 3097 \nQ 1472 3097 1187 3025 \nQ 903 2953 641 2809 \nL 641 3341 \nQ 956 3463 1253 3523 \nQ 1550 3584 1831 3584 \nQ 2591 3584 2966 3190 \nQ 3341 2797 3341 1997 \nz\n\" transform=\"scale(0.015625)\"/>\n       <path id=\"DejaVuSans-6c\" d=\"M 603 4863 \nL 1178 4863 \nL 1178 0 \nL 603 0 \nL 603 4863 \nz\n\" transform=\"scale(0.015625)\"/>\n      </defs>\n      <use xlink:href=\"#DejaVuSans-72\"/>\n      <use xlink:href=\"#DejaVuSans-65\" transform=\"translate(38.863281 0)\"/>\n      <use xlink:href=\"#DejaVuSans-73\" transform=\"translate(100.386719 0)\"/>\n      <use xlink:href=\"#DejaVuSans-69\" transform=\"translate(152.486328 0)\"/>\n      <use xlink:href=\"#DejaVuSans-64\" transform=\"translate(180.269531 0)\"/>\n      <use xlink:href=\"#DejaVuSans-75\" transform=\"translate(243.746094 0)\"/>\n      <use xlink:href=\"#DejaVuSans-61\" transform=\"translate(307.125 0)\"/>\n      <use xlink:href=\"#DejaVuSans-6c\" transform=\"translate(368.404297 0)\"/>\n      <use xlink:href=\"#DejaVuSans-73\" transform=\"translate(396.1875 0)\"/>\n     </g>\n    </g>\n   </g>\n   <g id=\"line2d_10\">\n    <path d=\"M 58.523438 53.421063 \nL 415.643438 53.421063 \n\" clip-path=\"url(#p995671e96f)\" style=\"fill: none; stroke: #000000; stroke-width: 1.5; stroke-linecap: square\"/>\n   </g>\n   <g id=\"line2d_11\">\n    <defs>\n     <path id=\"ma521bc8b54\" d=\"M 0 3 \nC 0.795609 3 1.55874 2.683901 2.12132 2.12132 \nC 2.683901 1.55874 3 0.795609 3 0 \nC 3 -0.795609 2.683901 -1.55874 2.12132 -2.12132 \nC 1.55874 -2.683901 0.795609 -3 0 -3 \nC -0.795609 -3 -1.55874 -2.683901 -2.12132 -2.12132 \nC -2.683901 -1.55874 -3 -0.795609 -3 0 \nC -3 0.795609 -2.683901 1.55874 -2.12132 2.12132 \nC -1.55874 2.683901 -0.795609 3 0 3 \nz\n\" style=\"stroke: #1f77b4\"/>\n    </defs>\n    <g clip-path=\"url(#p995671e96f)\">\n     <use xlink:href=\"#ma521bc8b54\" x=\"74.756165\" y=\"60.308793\" style=\"fill: #1f77b4; stroke: #1f77b4\"/>\n     <use xlink:href=\"#ma521bc8b54\" x=\"78.814347\" y=\"56.592049\" style=\"fill: #1f77b4; stroke: #1f77b4\"/>\n     <use xlink:href=\"#ma521bc8b54\" x=\"81.519801\" y=\"58.67957\" style=\"fill: #1f77b4; stroke: #1f77b4\"/>\n     <use xlink:href=\"#ma521bc8b54\" x=\"88.283438\" y=\"61.183387\" style=\"fill: #1f77b4; stroke: #1f77b4\"/>\n     <use xlink:href=\"#ma521bc8b54\" x=\"95.047074\" y=\"59.165874\" style=\"fill: #1f77b4; stroke: #1f77b4\"/>\n     <use xlink:href=\"#ma521bc8b54\" x=\"101.81071\" y=\"58.614862\" style=\"fill: #1f77b4; stroke: #1f77b4\"/>\n     <use xlink:href=\"#ma521bc8b54\" x=\"115.337983\" y=\"71.222648\" style=\"fill: #1f77b4; stroke: #1f77b4\"/>\n     <use xlink:href=\"#ma521bc8b54\" x=\"135.628892\" y=\"42.512171\" style=\"fill: #1f77b4; stroke: #1f77b4\"/>\n     <use xlink:href=\"#ma521bc8b54\" x=\"155.919801\" y=\"25.250489\" style=\"fill: #1f77b4; stroke: #1f77b4\"/>\n     <use xlink:href=\"#ma521bc8b54\" x=\"176.21071\" y=\"54.39325\" style=\"fill: #1f77b4; stroke: #1f77b4\"/>\n     <use xlink:href=\"#ma521bc8b54\" x=\"196.501619\" y=\"83.897761\" style=\"fill: #1f77b4; stroke: #1f77b4\"/>\n     <use xlink:href=\"#ma521bc8b54\" x=\"237.083438\" y=\"57.899668\" style=\"fill: #1f77b4; stroke: #1f77b4\"/>\n     <use xlink:href=\"#ma521bc8b54\" x=\"277.665256\" y=\"63.469173\" style=\"fill: #1f77b4; stroke: #1f77b4\"/>\n     <use xlink:href=\"#ma521bc8b54\" x=\"318.247074\" y=\"59.631683\" style=\"fill: #1f77b4; stroke: #1f77b4\"/>\n     <use xlink:href=\"#ma521bc8b54\" x=\"358.828892\" y=\"56.527318\" style=\"fill: #1f77b4; stroke: #1f77b4\"/>\n     <use xlink:href=\"#ma521bc8b54\" x=\"399.41071\" y=\"53.391817\" style=\"fill: #1f77b4; stroke: #1f77b4\"/>\n    </g>\n   </g>\n   <g id=\"patch_3\">\n    <path d=\"M 58.523438 86.830125 \nL 58.523438 22.318125 \n\" style=\"fill: none; stroke: #000000; stroke-width: 0.8; stroke-linejoin: miter; stroke-linecap: square\"/>\n   </g>\n   <g id=\"patch_4\">\n    <path d=\"M 415.643438 86.830125 \nL 415.643438 22.318125 \n\" style=\"fill: none; stroke: #000000; stroke-width: 0.8; stroke-linejoin: miter; stroke-linecap: square\"/>\n   </g>\n   <g id=\"patch_5\">\n    <path d=\"M 58.523438 86.830125 \nL 415.643438 86.830125 \n\" style=\"fill: none; stroke: #000000; stroke-width: 0.8; stroke-linejoin: miter; stroke-linecap: square\"/>\n   </g>\n   <g id=\"patch_6\">\n    <path d=\"M 58.523438 22.318125 \nL 415.643438 22.318125 \n\" style=\"fill: none; stroke: #000000; stroke-width: 0.8; stroke-linejoin: miter; stroke-linecap: square\"/>\n   </g>\n   <g id=\"text_5\">\n    <!-- Model(Yoon_Nelson) -->\n    <g transform=\"translate(176.924062 16.318125) scale(0.12 -0.12)\">\n     <defs>\n      <path id=\"DejaVuSans-4d\" d=\"M 628 4666 \nL 1569 4666 \nL 2759 1491 \nL 3956 4666 \nL 4897 4666 \nL 4897 0 \nL 4281 0 \nL 4281 4097 \nL 3078 897 \nL 2444 897 \nL 1241 4097 \nL 1241 0 \nL 628 0 \nL 628 4666 \nz\n\" transform=\"scale(0.015625)\"/>\n      <path id=\"DejaVuSans-6f\" d=\"M 1959 3097 \nQ 1497 3097 1228 2736 \nQ 959 2375 959 1747 \nQ 959 1119 1226 758 \nQ 1494 397 1959 397 \nQ 2419 397 2687 759 \nQ 2956 1122 2956 1747 \nQ 2956 2369 2687 2733 \nQ 2419 3097 1959 3097 \nz\nM 1959 3584 \nQ 2709 3584 3137 3096 \nQ 3566 2609 3566 1747 \nQ 3566 888 3137 398 \nQ 2709 -91 1959 -91 \nQ 1206 -91 779 398 \nQ 353 888 353 1747 \nQ 353 2609 779 3096 \nQ 1206 3584 1959 3584 \nz\n\" transform=\"scale(0.015625)\"/>\n      <path id=\"DejaVuSans-28\" d=\"M 1984 4856 \nQ 1566 4138 1362 3434 \nQ 1159 2731 1159 2009 \nQ 1159 1288 1364 580 \nQ 1569 -128 1984 -844 \nL 1484 -844 \nQ 1016 -109 783 600 \nQ 550 1309 550 2009 \nQ 550 2706 781 3412 \nQ 1013 4119 1484 4856 \nL 1984 4856 \nz\n\" transform=\"scale(0.015625)\"/>\n      <path id=\"DejaVuSans-59\" d=\"M -13 4666 \nL 666 4666 \nL 1959 2747 \nL 3244 4666 \nL 3922 4666 \nL 2272 2222 \nL 2272 0 \nL 1638 0 \nL 1638 2222 \nL -13 4666 \nz\n\" transform=\"scale(0.015625)\"/>\n      <path id=\"DejaVuSans-6e\" d=\"M 3513 2113 \nL 3513 0 \nL 2938 0 \nL 2938 2094 \nQ 2938 2591 2744 2837 \nQ 2550 3084 2163 3084 \nQ 1697 3084 1428 2787 \nQ 1159 2491 1159 1978 \nL 1159 0 \nL 581 0 \nL 581 3500 \nL 1159 3500 \nL 1159 2956 \nQ 1366 3272 1645 3428 \nQ 1925 3584 2291 3584 \nQ 2894 3584 3203 3211 \nQ 3513 2838 3513 2113 \nz\n\" transform=\"scale(0.015625)\"/>\n      <path id=\"DejaVuSans-5f\" d=\"M 3263 -1063 \nL 3263 -1509 \nL -63 -1509 \nL -63 -1063 \nL 3263 -1063 \nz\n\" transform=\"scale(0.015625)\"/>\n      <path id=\"DejaVuSans-4e\" d=\"M 628 4666 \nL 1478 4666 \nL 3547 763 \nL 3547 4666 \nL 4159 4666 \nL 4159 0 \nL 3309 0 \nL 1241 3903 \nL 1241 0 \nL 628 0 \nL 628 4666 \nz\n\" transform=\"scale(0.015625)\"/>\n      <path id=\"DejaVuSans-29\" d=\"M 513 4856 \nL 1013 4856 \nQ 1481 4119 1714 3412 \nQ 1947 2706 1947 2009 \nQ 1947 1309 1714 600 \nQ 1481 -109 1013 -844 \nL 513 -844 \nQ 928 -128 1133 580 \nQ 1338 1288 1338 2009 \nQ 1338 2731 1133 3434 \nQ 928 4138 513 4856 \nz\n\" transform=\"scale(0.015625)\"/>\n     </defs>\n     <use xlink:href=\"#DejaVuSans-4d\"/>\n     <use xlink:href=\"#DejaVuSans-6f\" transform=\"translate(86.279297 0)\"/>\n     <use xlink:href=\"#DejaVuSans-64\" transform=\"translate(147.460938 0)\"/>\n     <use xlink:href=\"#DejaVuSans-65\" transform=\"translate(210.9375 0)\"/>\n     <use xlink:href=\"#DejaVuSans-6c\" transform=\"translate(272.460938 0)\"/>\n     <use xlink:href=\"#DejaVuSans-28\" transform=\"translate(300.244141 0)\"/>\n     <use xlink:href=\"#DejaVuSans-59\" transform=\"translate(339.257812 0)\"/>\n     <use xlink:href=\"#DejaVuSans-6f\" transform=\"translate(387.091797 0)\"/>\n     <use xlink:href=\"#DejaVuSans-6f\" transform=\"translate(448.273438 0)\"/>\n     <use xlink:href=\"#DejaVuSans-6e\" transform=\"translate(509.455078 0)\"/>\n     <use xlink:href=\"#DejaVuSans-5f\" transform=\"translate(572.833984 0)\"/>\n     <use xlink:href=\"#DejaVuSans-4e\" transform=\"translate(622.833984 0)\"/>\n     <use xlink:href=\"#DejaVuSans-65\" transform=\"translate(697.638672 0)\"/>\n     <use xlink:href=\"#DejaVuSans-6c\" transform=\"translate(759.162109 0)\"/>\n     <use xlink:href=\"#DejaVuSans-73\" transform=\"translate(786.945312 0)\"/>\n     <use xlink:href=\"#DejaVuSans-6f\" transform=\"translate(839.044922 0)\"/>\n     <use xlink:href=\"#DejaVuSans-6e\" transform=\"translate(900.226562 0)\"/>\n     <use xlink:href=\"#DejaVuSans-29\" transform=\"translate(963.605469 0)\"/>\n    </g>\n   </g>\n  </g>\n  <g id=\"axes_2\">\n   <g id=\"patch_7\">\n    <path d=\"M 58.523438 377.134125 \nL 415.643438 377.134125 \nL 415.643438 119.086125 \nL 58.523438 119.086125 \nz\n\" style=\"fill: #ffffff\"/>\n   </g>\n   <g id=\"matplotlib.axis_3\">\n    <g id=\"xtick_7\">\n     <g id=\"line2d_12\">\n      <g>\n       <use xlink:href=\"#m0434c31944\" x=\"74.756165\" y=\"377.134125\" style=\"stroke: #000000; stroke-width: 0.8\"/>\n      </g>\n     </g>\n     <g id=\"text_6\">\n      <!-- 0 -->\n      <g transform=\"translate(71.574915 391.732562) scale(0.1 -0.1)\">\n       <use xlink:href=\"#DejaVuSans-30\"/>\n      </g>\n     </g>\n    </g>\n    <g id=\"xtick_8\">\n     <g id=\"line2d_13\">\n      <g>\n       <use xlink:href=\"#m0434c31944\" x=\"142.392528\" y=\"377.134125\" style=\"stroke: #000000; stroke-width: 0.8\"/>\n      </g>\n     </g>\n     <g id=\"text_7\">\n      <!-- 50 -->\n      <g transform=\"translate(136.030028 391.732562) scale(0.1 -0.1)\">\n       <use xlink:href=\"#DejaVuSans-35\"/>\n       <use xlink:href=\"#DejaVuSans-30\" transform=\"translate(63.623047 0)\"/>\n      </g>\n     </g>\n    </g>\n    <g id=\"xtick_9\">\n     <g id=\"line2d_14\">\n      <g>\n       <use xlink:href=\"#m0434c31944\" x=\"210.028892\" y=\"377.134125\" style=\"stroke: #000000; stroke-width: 0.8\"/>\n      </g>\n     </g>\n     <g id=\"text_8\">\n      <!-- 100 -->\n      <g transform=\"translate(200.485142 391.732562) scale(0.1 -0.1)\">\n       <defs>\n        <path id=\"DejaVuSans-31\" d=\"M 794 531 \nL 1825 531 \nL 1825 4091 \nL 703 3866 \nL 703 4441 \nL 1819 4666 \nL 2450 4666 \nL 2450 531 \nL 3481 531 \nL 3481 0 \nL 794 0 \nL 794 531 \nz\n\" transform=\"scale(0.015625)\"/>\n       </defs>\n       <use xlink:href=\"#DejaVuSans-31\"/>\n       <use xlink:href=\"#DejaVuSans-30\" transform=\"translate(63.623047 0)\"/>\n       <use xlink:href=\"#DejaVuSans-30\" transform=\"translate(127.246094 0)\"/>\n      </g>\n     </g>\n    </g>\n    <g id=\"xtick_10\">\n     <g id=\"line2d_15\">\n      <g>\n       <use xlink:href=\"#m0434c31944\" x=\"277.665256\" y=\"377.134125\" style=\"stroke: #000000; stroke-width: 0.8\"/>\n      </g>\n     </g>\n     <g id=\"text_9\">\n      <!-- 150 -->\n      <g transform=\"translate(268.121506 391.732562) scale(0.1 -0.1)\">\n       <use xlink:href=\"#DejaVuSans-31\"/>\n       <use xlink:href=\"#DejaVuSans-35\" transform=\"translate(63.623047 0)\"/>\n       <use xlink:href=\"#DejaVuSans-30\" transform=\"translate(127.246094 0)\"/>\n      </g>\n     </g>\n    </g>\n    <g id=\"xtick_11\">\n     <g id=\"line2d_16\">\n      <g>\n       <use xlink:href=\"#m0434c31944\" x=\"345.301619\" y=\"377.134125\" style=\"stroke: #000000; stroke-width: 0.8\"/>\n      </g>\n     </g>\n     <g id=\"text_10\">\n      <!-- 200 -->\n      <g transform=\"translate(335.757869 391.732562) scale(0.1 -0.1)\">\n       <defs>\n        <path id=\"DejaVuSans-32\" d=\"M 1228 531 \nL 3431 531 \nL 3431 0 \nL 469 0 \nL 469 531 \nQ 828 903 1448 1529 \nQ 2069 2156 2228 2338 \nQ 2531 2678 2651 2914 \nQ 2772 3150 2772 3378 \nQ 2772 3750 2511 3984 \nQ 2250 4219 1831 4219 \nQ 1534 4219 1204 4116 \nQ 875 4013 500 3803 \nL 500 4441 \nQ 881 4594 1212 4672 \nQ 1544 4750 1819 4750 \nQ 2544 4750 2975 4387 \nQ 3406 4025 3406 3419 \nQ 3406 3131 3298 2873 \nQ 3191 2616 2906 2266 \nQ 2828 2175 2409 1742 \nQ 1991 1309 1228 531 \nz\n\" transform=\"scale(0.015625)\"/>\n       </defs>\n       <use xlink:href=\"#DejaVuSans-32\"/>\n       <use xlink:href=\"#DejaVuSans-30\" transform=\"translate(63.623047 0)\"/>\n       <use xlink:href=\"#DejaVuSans-30\" transform=\"translate(127.246094 0)\"/>\n      </g>\n     </g>\n    </g>\n    <g id=\"xtick_12\">\n     <g id=\"line2d_17\">\n      <g>\n       <use xlink:href=\"#m0434c31944\" x=\"412.937983\" y=\"377.134125\" style=\"stroke: #000000; stroke-width: 0.8\"/>\n      </g>\n     </g>\n     <g id=\"text_11\">\n      <!-- 250 -->\n      <g transform=\"translate(403.394233 391.732562) scale(0.1 -0.1)\">\n       <use xlink:href=\"#DejaVuSans-32\"/>\n       <use xlink:href=\"#DejaVuSans-35\" transform=\"translate(63.623047 0)\"/>\n       <use xlink:href=\"#DejaVuSans-30\" transform=\"translate(127.246094 0)\"/>\n      </g>\n     </g>\n    </g>\n    <g id=\"text_12\">\n     <!-- t -->\n     <g transform=\"translate(235.123281 405.410687) scale(0.1 -0.1)\">\n      <defs>\n       <path id=\"DejaVuSans-74\" d=\"M 1172 4494 \nL 1172 3500 \nL 2356 3500 \nL 2356 3053 \nL 1172 3053 \nL 1172 1153 \nQ 1172 725 1289 603 \nQ 1406 481 1766 481 \nL 2356 481 \nL 2356 0 \nL 1766 0 \nQ 1100 0 847 248 \nQ 594 497 594 1153 \nL 594 3053 \nL 172 3053 \nL 172 3500 \nL 594 3500 \nL 594 4494 \nL 1172 4494 \nz\n\" transform=\"scale(0.015625)\"/>\n      </defs>\n      <use xlink:href=\"#DejaVuSans-74\"/>\n     </g>\n    </g>\n   </g>\n   <g id=\"matplotlib.axis_4\">\n    <g id=\"ytick_4\">\n     <g id=\"line2d_18\">\n      <g>\n       <use xlink:href=\"#m46210c3cd8\" x=\"58.523438\" y=\"371.419775\" style=\"stroke: #000000; stroke-width: 0.8\"/>\n      </g>\n     </g>\n     <g id=\"text_13\">\n      <!-- 0.0 -->\n      <g transform=\"translate(35.620313 375.218994) scale(0.1 -0.1)\">\n       <use xlink:href=\"#DejaVuSans-30\"/>\n       <use xlink:href=\"#DejaVuSans-2e\" transform=\"translate(63.623047 0)\"/>\n       <use xlink:href=\"#DejaVuSans-30\" transform=\"translate(95.410156 0)\"/>\n      </g>\n     </g>\n    </g>\n    <g id=\"ytick_5\">\n     <g id=\"line2d_19\">\n      <g>\n       <use xlink:href=\"#m46210c3cd8\" x=\"58.523438\" y=\"323.298936\" style=\"stroke: #000000; stroke-width: 0.8\"/>\n      </g>\n     </g>\n     <g id=\"text_14\">\n      <!-- 0.2 -->\n      <g transform=\"translate(35.620313 327.098155) scale(0.1 -0.1)\">\n       <use xlink:href=\"#DejaVuSans-30\"/>\n       <use xlink:href=\"#DejaVuSans-2e\" transform=\"translate(63.623047 0)\"/>\n       <use xlink:href=\"#DejaVuSans-32\" transform=\"translate(95.410156 0)\"/>\n      </g>\n     </g>\n    </g>\n    <g id=\"ytick_6\">\n     <g id=\"line2d_20\">\n      <g>\n       <use xlink:href=\"#m46210c3cd8\" x=\"58.523438\" y=\"275.178097\" style=\"stroke: #000000; stroke-width: 0.8\"/>\n      </g>\n     </g>\n     <g id=\"text_15\">\n      <!-- 0.4 -->\n      <g transform=\"translate(35.620313 278.977316) scale(0.1 -0.1)\">\n       <defs>\n        <path id=\"DejaVuSans-34\" d=\"M 2419 4116 \nL 825 1625 \nL 2419 1625 \nL 2419 4116 \nz\nM 2253 4666 \nL 3047 4666 \nL 3047 1625 \nL 3713 1625 \nL 3713 1100 \nL 3047 1100 \nL 3047 0 \nL 2419 0 \nL 2419 1100 \nL 313 1100 \nL 313 1709 \nL 2253 4666 \nz\n\" transform=\"scale(0.015625)\"/>\n       </defs>\n       <use xlink:href=\"#DejaVuSans-30\"/>\n       <use xlink:href=\"#DejaVuSans-2e\" transform=\"translate(63.623047 0)\"/>\n       <use xlink:href=\"#DejaVuSans-34\" transform=\"translate(95.410156 0)\"/>\n      </g>\n     </g>\n    </g>\n    <g id=\"ytick_7\">\n     <g id=\"line2d_21\">\n      <g>\n       <use xlink:href=\"#m46210c3cd8\" x=\"58.523438\" y=\"227.057258\" style=\"stroke: #000000; stroke-width: 0.8\"/>\n      </g>\n     </g>\n     <g id=\"text_16\">\n      <!-- 0.6 -->\n      <g transform=\"translate(35.620313 230.856477) scale(0.1 -0.1)\">\n       <defs>\n        <path id=\"DejaVuSans-36\" d=\"M 2113 2584 \nQ 1688 2584 1439 2293 \nQ 1191 2003 1191 1497 \nQ 1191 994 1439 701 \nQ 1688 409 2113 409 \nQ 2538 409 2786 701 \nQ 3034 994 3034 1497 \nQ 3034 2003 2786 2293 \nQ 2538 2584 2113 2584 \nz\nM 3366 4563 \nL 3366 3988 \nQ 3128 4100 2886 4159 \nQ 2644 4219 2406 4219 \nQ 1781 4219 1451 3797 \nQ 1122 3375 1075 2522 \nQ 1259 2794 1537 2939 \nQ 1816 3084 2150 3084 \nQ 2853 3084 3261 2657 \nQ 3669 2231 3669 1497 \nQ 3669 778 3244 343 \nQ 2819 -91 2113 -91 \nQ 1303 -91 875 529 \nQ 447 1150 447 2328 \nQ 447 3434 972 4092 \nQ 1497 4750 2381 4750 \nQ 2619 4750 2861 4703 \nQ 3103 4656 3366 4563 \nz\n\" transform=\"scale(0.015625)\"/>\n       </defs>\n       <use xlink:href=\"#DejaVuSans-30\"/>\n       <use xlink:href=\"#DejaVuSans-2e\" transform=\"translate(63.623047 0)\"/>\n       <use xlink:href=\"#DejaVuSans-36\" transform=\"translate(95.410156 0)\"/>\n      </g>\n     </g>\n    </g>\n    <g id=\"ytick_8\">\n     <g id=\"line2d_22\">\n      <g>\n       <use xlink:href=\"#m46210c3cd8\" x=\"58.523438\" y=\"178.936419\" style=\"stroke: #000000; stroke-width: 0.8\"/>\n      </g>\n     </g>\n     <g id=\"text_17\">\n      <!-- 0.8 -->\n      <g transform=\"translate(35.620313 182.735637) scale(0.1 -0.1)\">\n       <defs>\n        <path id=\"DejaVuSans-38\" d=\"M 2034 2216 \nQ 1584 2216 1326 1975 \nQ 1069 1734 1069 1313 \nQ 1069 891 1326 650 \nQ 1584 409 2034 409 \nQ 2484 409 2743 651 \nQ 3003 894 3003 1313 \nQ 3003 1734 2745 1975 \nQ 2488 2216 2034 2216 \nz\nM 1403 2484 \nQ 997 2584 770 2862 \nQ 544 3141 544 3541 \nQ 544 4100 942 4425 \nQ 1341 4750 2034 4750 \nQ 2731 4750 3128 4425 \nQ 3525 4100 3525 3541 \nQ 3525 3141 3298 2862 \nQ 3072 2584 2669 2484 \nQ 3125 2378 3379 2068 \nQ 3634 1759 3634 1313 \nQ 3634 634 3220 271 \nQ 2806 -91 2034 -91 \nQ 1263 -91 848 271 \nQ 434 634 434 1313 \nQ 434 1759 690 2068 \nQ 947 2378 1403 2484 \nz\nM 1172 3481 \nQ 1172 3119 1398 2916 \nQ 1625 2713 2034 2713 \nQ 2441 2713 2670 2916 \nQ 2900 3119 2900 3481 \nQ 2900 3844 2670 4047 \nQ 2441 4250 2034 4250 \nQ 1625 4250 1398 4047 \nQ 1172 3844 1172 3481 \nz\n\" transform=\"scale(0.015625)\"/>\n       </defs>\n       <use xlink:href=\"#DejaVuSans-30\"/>\n       <use xlink:href=\"#DejaVuSans-2e\" transform=\"translate(63.623047 0)\"/>\n       <use xlink:href=\"#DejaVuSans-38\" transform=\"translate(95.410156 0)\"/>\n      </g>\n     </g>\n    </g>\n    <g id=\"ytick_9\">\n     <g id=\"line2d_23\">\n      <g>\n       <use xlink:href=\"#m46210c3cd8\" x=\"58.523438\" y=\"130.81558\" style=\"stroke: #000000; stroke-width: 0.8\"/>\n      </g>\n     </g>\n     <g id=\"text_18\">\n      <!-- 1.0 -->\n      <g transform=\"translate(35.620313 134.614798) scale(0.1 -0.1)\">\n       <use xlink:href=\"#DejaVuSans-31\"/>\n       <use xlink:href=\"#DejaVuSans-2e\" transform=\"translate(63.623047 0)\"/>\n       <use xlink:href=\"#DejaVuSans-30\" transform=\"translate(95.410156 0)\"/>\n      </g>\n     </g>\n    </g>\n    <g id=\"text_19\">\n     <!-- y -->\n     <g transform=\"translate(29.540625 251.0695) rotate(-90) scale(0.1 -0.1)\">\n      <defs>\n       <path id=\"DejaVuSans-79\" d=\"M 2059 -325 \nQ 1816 -950 1584 -1140 \nQ 1353 -1331 966 -1331 \nL 506 -1331 \nL 506 -850 \nL 844 -850 \nQ 1081 -850 1212 -737 \nQ 1344 -625 1503 -206 \nL 1606 56 \nL 191 3500 \nL 800 3500 \nL 1894 763 \nL 2988 3500 \nL 3597 3500 \nL 2059 -325 \nz\n\" transform=\"scale(0.015625)\"/>\n      </defs>\n      <use xlink:href=\"#DejaVuSans-79\"/>\n     </g>\n    </g>\n   </g>\n   <g id=\"line2d_24\">\n    <g clip-path=\"url(#p0a7a286c22)\">\n     <use xlink:href=\"#ma521bc8b54\" x=\"74.756165\" y=\"365.40467\" style=\"fill: #1f77b4; stroke: #1f77b4\"/>\n     <use xlink:href=\"#ma521bc8b54\" x=\"78.814347\" y=\"361.555003\" style=\"fill: #1f77b4; stroke: #1f77b4\"/>\n     <use xlink:href=\"#ma521bc8b54\" x=\"81.519801\" y=\"361.555003\" style=\"fill: #1f77b4; stroke: #1f77b4\"/>\n     <use xlink:href=\"#ma521bc8b54\" x=\"88.283438\" y=\"359.389566\" style=\"fill: #1f77b4; stroke: #1f77b4\"/>\n     <use xlink:href=\"#ma521bc8b54\" x=\"95.047074\" y=\"353.615065\" style=\"fill: #1f77b4; stroke: #1f77b4\"/>\n     <use xlink:href=\"#ma521bc8b54\" x=\"101.81071\" y=\"347.59996\" style=\"fill: #1f77b4; stroke: #1f77b4\"/>\n     <use xlink:href=\"#ma521bc8b54\" x=\"115.337983\" y=\"339.660022\" style=\"fill: #1f77b4; stroke: #1f77b4\"/>\n     <use xlink:href=\"#ma521bc8b54\" x=\"135.628892\" y=\"287.930119\" style=\"fill: #1f77b4; stroke: #1f77b4\"/>\n     <use xlink:href=\"#ma521bc8b54\" x=\"155.919801\" y=\"232.109946\" style=\"fill: #1f77b4; stroke: #1f77b4\"/>\n     <use xlink:href=\"#ma521bc8b54\" x=\"176.21071\" y=\"204.440463\" style=\"fill: #1f77b4; stroke: #1f77b4\"/>\n     <use xlink:href=\"#ma521bc8b54\" x=\"196.501619\" y=\"188.560587\" style=\"fill: #1f77b4; stroke: #1f77b4\"/>\n     <use xlink:href=\"#ma521bc8b54\" x=\"237.083438\" y=\"142.845789\" style=\"fill: #1f77b4; stroke: #1f77b4\"/>\n     <use xlink:href=\"#ma521bc8b54\" x=\"277.665256\" y=\"138.755518\" style=\"fill: #1f77b4; stroke: #1f77b4\"/>\n     <use xlink:href=\"#ma521bc8b54\" x=\"318.247074\" y=\"134.905851\" style=\"fill: #1f77b4; stroke: #1f77b4\"/>\n     <use xlink:href=\"#ma521bc8b54\" x=\"358.828892\" y=\"132.740413\" style=\"fill: #1f77b4; stroke: #1f77b4\"/>\n     <use xlink:href=\"#ma521bc8b54\" x=\"399.41071\" y=\"130.81558\" style=\"fill: #1f77b4; stroke: #1f77b4\"/>\n    </g>\n   </g>\n   <g id=\"line2d_25\">\n    <path d=\"M 74.756165 361.323707 \nL 78.035504 360.011022 \nL 81.314842 358.5372 \nL 84.594181 356.88506 \nL 87.87352 355.036283 \nL 91.152859 352.971536 \nL 94.432198 350.670658 \nL 97.711537 348.112918 \nL 100.990876 345.277377 \nL 104.270214 342.143338 \nL 107.549553 338.690919 \nL 110.828892 334.901727 \nL 114.108231 330.759647 \nL 117.38757 326.25173 \nL 120.666909 321.369135 \nL 123.946247 316.108116 \nL 127.225586 310.47097 \nL 130.504925 304.466902 \nL 133.784264 298.112714 \nL 137.063603 291.433253 \nL 140.342942 284.461528 \nL 143.62228 277.238455 \nL 146.901619 269.812176 \nL 150.180958 262.236968 \nL 153.460297 254.571767 \nL 156.739636 246.878395 \nL 160.018975 239.219585 \nL 163.298314 231.65695 \nL 166.577652 224.249029 \nL 169.856991 217.049532 \nL 173.13633 210.105909 \nL 176.415669 203.458291 \nL 179.695008 197.13886 \nL 182.974347 191.171627 \nL 186.253685 185.572596 \nL 189.533024 180.350229 \nL 192.812363 175.506165 \nL 196.091702 171.036093 \nL 199.371041 166.930709 \nL 202.65038 163.176695 \nL 205.929718 159.757666 \nL 209.209057 156.655044 \nL 212.488396 153.848831 \nL 215.767735 151.318284 \nL 219.047074 149.042465 \nL 222.326413 147.000688 \nL 225.605752 145.172864 \nL 228.88509 143.539756 \nL 232.164429 142.08316 \nL 235.443768 140.786012 \nL 238.723107 139.632453 \nL 242.002446 138.607849 \nL 245.281785 137.698778 \nL 248.561123 136.892993 \nL 251.840462 136.179374 \nL 255.119801 135.547857 \nL 258.39914 134.989375 \nL 261.678479 134.495773 \nL 264.957818 134.059745 \nL 268.237157 133.674754 \nL 271.516495 133.334966 \nL 274.795834 133.035182 \nL 278.075173 132.770776 \nL 281.354512 132.537639 \nL 284.633851 132.332125 \nL 287.91319 132.151001 \nL 291.192528 131.991402 \nL 294.471867 131.850794 \nL 297.751206 131.726937 \nL 301.030545 131.617849 \nL 304.309884 131.52178 \nL 307.589223 131.437185 \nL 310.868561 131.362701 \nL 314.1479 131.297123 \nL 317.427239 131.239392 \nL 320.706578 131.188572 \nL 323.985917 131.143837 \nL 327.265256 131.104461 \nL 330.544595 131.069803 \nL 333.823933 131.0393 \nL 337.103272 131.012453 \nL 340.382611 130.988826 \nL 343.66195 130.968032 \nL 346.941289 130.949733 \nL 350.220628 130.933629 \nL 353.499966 130.919458 \nL 356.779305 130.906987 \nL 360.058644 130.896013 \nL 363.337983 130.886355 \nL 366.617322 130.877858 \nL 369.896661 130.87038 \nL 373.175999 130.8638 \nL 376.455338 130.858009 \nL 379.734677 130.852914 \nL 383.014016 130.848431 \nL 386.293355 130.844486 \nL 389.572694 130.841015 \nL 392.852033 130.83796 \nL 396.131371 130.835273 \nL 399.41071 130.832908 \n\" clip-path=\"url(#p0a7a286c22)\" style=\"fill: none; stroke: #ff7f0e; stroke-width: 1.5; stroke-linecap: square\"/>\n   </g>\n   <g id=\"patch_8\">\n    <path d=\"M 58.523438 377.134125 \nL 58.523438 119.086125 \n\" style=\"fill: none; stroke: #000000; stroke-width: 0.8; stroke-linejoin: miter; stroke-linecap: square\"/>\n   </g>\n   <g id=\"patch_9\">\n    <path d=\"M 415.643438 377.134125 \nL 415.643438 119.086125 \n\" style=\"fill: none; stroke: #000000; stroke-width: 0.8; stroke-linejoin: miter; stroke-linecap: square\"/>\n   </g>\n   <g id=\"patch_10\">\n    <path d=\"M 58.523438 377.134125 \nL 415.643438 377.134125 \n\" style=\"fill: none; stroke: #000000; stroke-width: 0.8; stroke-linejoin: miter; stroke-linecap: square\"/>\n   </g>\n   <g id=\"patch_11\">\n    <path d=\"M 58.523438 119.086125 \nL 415.643438 119.086125 \n\" style=\"fill: none; stroke: #000000; stroke-width: 0.8; stroke-linejoin: miter; stroke-linecap: square\"/>\n   </g>\n   <g id=\"legend_1\">\n    <g id=\"patch_12\">\n     <path d=\"M 65.523438 156.442375 \nL 132.551562 156.442375 \nQ 134.551562 156.442375 134.551562 154.442375 \nL 134.551562 126.086125 \nQ 134.551562 124.086125 132.551562 124.086125 \nL 65.523438 124.086125 \nQ 63.523438 124.086125 63.523438 126.086125 \nL 63.523438 154.442375 \nQ 63.523438 156.442375 65.523438 156.442375 \nz\n\" style=\"fill: #ffffff; opacity: 0.8; stroke: #cccccc; stroke-linejoin: miter\"/>\n    </g>\n    <g id=\"line2d_26\">\n     <g>\n      <use xlink:href=\"#ma521bc8b54\" x=\"77.523438\" y=\"132.184563\" style=\"fill: #1f77b4; stroke: #1f77b4\"/>\n     </g>\n    </g>\n    <g id=\"text_20\">\n     <!-- data -->\n     <g transform=\"translate(95.523438 135.684563) scale(0.1 -0.1)\">\n      <use xlink:href=\"#DejaVuSans-64\"/>\n      <use xlink:href=\"#DejaVuSans-61\" transform=\"translate(63.476562 0)\"/>\n      <use xlink:href=\"#DejaVuSans-74\" transform=\"translate(124.755859 0)\"/>\n      <use xlink:href=\"#DejaVuSans-61\" transform=\"translate(163.964844 0)\"/>\n     </g>\n    </g>\n    <g id=\"line2d_27\">\n     <path d=\"M 67.523438 146.862688 \nL 77.523438 146.862688 \nL 87.523438 146.862688 \n\" style=\"fill: none; stroke: #ff7f0e; stroke-width: 1.5; stroke-linecap: square\"/>\n    </g>\n    <g id=\"text_21\">\n     <!-- best fit -->\n     <g transform=\"translate(95.523438 150.362688) scale(0.1 -0.1)\">\n      <defs>\n       <path id=\"DejaVuSans-62\" d=\"M 3116 1747 \nQ 3116 2381 2855 2742 \nQ 2594 3103 2138 3103 \nQ 1681 3103 1420 2742 \nQ 1159 2381 1159 1747 \nQ 1159 1113 1420 752 \nQ 1681 391 2138 391 \nQ 2594 391 2855 752 \nQ 3116 1113 3116 1747 \nz\nM 1159 2969 \nQ 1341 3281 1617 3432 \nQ 1894 3584 2278 3584 \nQ 2916 3584 3314 3078 \nQ 3713 2572 3713 1747 \nQ 3713 922 3314 415 \nQ 2916 -91 2278 -91 \nQ 1894 -91 1617 61 \nQ 1341 213 1159 525 \nL 1159 0 \nL 581 0 \nL 581 4863 \nL 1159 4863 \nL 1159 2969 \nz\n\" transform=\"scale(0.015625)\"/>\n       <path id=\"DejaVuSans-20\" transform=\"scale(0.015625)\"/>\n       <path id=\"DejaVuSans-66\" d=\"M 2375 4863 \nL 2375 4384 \nL 1825 4384 \nQ 1516 4384 1395 4259 \nQ 1275 4134 1275 3809 \nL 1275 3500 \nL 2222 3500 \nL 2222 3053 \nL 1275 3053 \nL 1275 0 \nL 697 0 \nL 697 3053 \nL 147 3053 \nL 147 3500 \nL 697 3500 \nL 697 3744 \nQ 697 4328 969 4595 \nQ 1241 4863 1831 4863 \nL 2375 4863 \nz\n\" transform=\"scale(0.015625)\"/>\n      </defs>\n      <use xlink:href=\"#DejaVuSans-62\"/>\n      <use xlink:href=\"#DejaVuSans-65\" transform=\"translate(63.476562 0)\"/>\n      <use xlink:href=\"#DejaVuSans-73\" transform=\"translate(125 0)\"/>\n      <use xlink:href=\"#DejaVuSans-74\" transform=\"translate(177.099609 0)\"/>\n      <use xlink:href=\"#DejaVuSans-20\" transform=\"translate(216.308594 0)\"/>\n      <use xlink:href=\"#DejaVuSans-66\" transform=\"translate(248.095703 0)\"/>\n      <use xlink:href=\"#DejaVuSans-69\" transform=\"translate(283.300781 0)\"/>\n      <use xlink:href=\"#DejaVuSans-74\" transform=\"translate(311.083984 0)\"/>\n     </g>\n    </g>\n   </g>\n  </g>\n </g>\n <defs>\n  <clipPath id=\"p995671e96f\">\n   <rect x=\"58.523438\" y=\"22.318125\" width=\"357.12\" height=\"64.512\"/>\n  </clipPath>\n  <clipPath id=\"p0a7a286c22\">\n   <rect x=\"58.523438\" y=\"119.086125\" width=\"357.12\" height=\"258.048\"/>\n  </clipPath>\n </defs>\n</svg>\n"
          },
          "metadata": {},
          "execution_count": 12
        },
        {
          "output_type": "display_data",
          "data": {
            "text/plain": [
              "<Figure size 640x640 with 2 Axes>"
            ],
            "image/svg+xml": "<?xml version=\"1.0\" encoding=\"utf-8\" standalone=\"no\"?>\n<!DOCTYPE svg PUBLIC \"-//W3C//DTD SVG 1.1//EN\"\n  \"http://www.w3.org/Graphics/SVG/1.1/DTD/svg11.dtd\">\n<svg xmlns:xlink=\"http://www.w3.org/1999/xlink\" width=\"429.681733pt\" height=\"414.690375pt\" viewBox=\"0 0 429.681733 414.690375\" xmlns=\"http://www.w3.org/2000/svg\" version=\"1.1\">\n <metadata>\n  <rdf:RDF xmlns:dc=\"http://purl.org/dc/elements/1.1/\" xmlns:cc=\"http://creativecommons.org/ns#\" xmlns:rdf=\"http://www.w3.org/1999/02/22-rdf-syntax-ns#\">\n   <cc:Work>\n    <dc:type rdf:resource=\"http://purl.org/dc/dcmitype/StillImage\"/>\n    <dc:date>2025-09-08T18:45:36.462345</dc:date>\n    <dc:format>image/svg+xml</dc:format>\n    <dc:creator>\n     <cc:Agent>\n      <dc:title>Matplotlib v3.10.0, https://matplotlib.org/</dc:title>\n     </cc:Agent>\n    </dc:creator>\n   </cc:Work>\n  </rdf:RDF>\n </metadata>\n <defs>\n  <style type=\"text/css\">*{stroke-linejoin: round; stroke-linecap: butt}</style>\n </defs>\n <g id=\"figure_1\">\n  <g id=\"patch_1\">\n   <path d=\"M 0 414.690375 \nL 429.681733 414.690375 \nL 429.681733 0 \nL 0 0 \nz\n\" style=\"fill: #ffffff\"/>\n  </g>\n  <g id=\"axes_1\">\n   <g id=\"patch_2\">\n    <path d=\"M 58.523438 86.830125 \nL 415.643438 86.830125 \nL 415.643438 22.318125 \nL 58.523438 22.318125 \nz\n\" style=\"fill: #ffffff\"/>\n   </g>\n   <g id=\"matplotlib.axis_1\">\n    <g id=\"xtick_1\">\n     <g id=\"line2d_1\">\n      <defs>\n       <path id=\"m028a79e08c\" d=\"M 0 0 \nL 0 3.5 \n\" style=\"stroke: #000000; stroke-width: 0.8\"/>\n      </defs>\n      <g>\n       <use xlink:href=\"#m028a79e08c\" x=\"74.756165\" y=\"86.830125\" style=\"stroke: #000000; stroke-width: 0.8\"/>\n      </g>\n     </g>\n    </g>\n    <g id=\"xtick_2\">\n     <g id=\"line2d_2\">\n      <g>\n       <use xlink:href=\"#m028a79e08c\" x=\"142.392528\" y=\"86.830125\" style=\"stroke: #000000; stroke-width: 0.8\"/>\n      </g>\n     </g>\n    </g>\n    <g id=\"xtick_3\">\n     <g id=\"line2d_3\">\n      <g>\n       <use xlink:href=\"#m028a79e08c\" x=\"210.028892\" y=\"86.830125\" style=\"stroke: #000000; stroke-width: 0.8\"/>\n      </g>\n     </g>\n    </g>\n    <g id=\"xtick_4\">\n     <g id=\"line2d_4\">\n      <g>\n       <use xlink:href=\"#m028a79e08c\" x=\"277.665256\" y=\"86.830125\" style=\"stroke: #000000; stroke-width: 0.8\"/>\n      </g>\n     </g>\n    </g>\n    <g id=\"xtick_5\">\n     <g id=\"line2d_5\">\n      <g>\n       <use xlink:href=\"#m028a79e08c\" x=\"345.301619\" y=\"86.830125\" style=\"stroke: #000000; stroke-width: 0.8\"/>\n      </g>\n     </g>\n    </g>\n    <g id=\"xtick_6\">\n     <g id=\"line2d_6\">\n      <g>\n       <use xlink:href=\"#m028a79e08c\" x=\"412.937983\" y=\"86.830125\" style=\"stroke: #000000; stroke-width: 0.8\"/>\n      </g>\n     </g>\n    </g>\n   </g>\n   <g id=\"matplotlib.axis_2\">\n    <g id=\"ytick_1\">\n     <g id=\"line2d_7\">\n      <defs>\n       <path id=\"m1ff39c9011\" d=\"M 0 0 \nL -3.5 0 \n\" style=\"stroke: #000000; stroke-width: 0.8\"/>\n      </defs>\n      <g>\n       <use xlink:href=\"#m1ff39c9011\" x=\"58.523438\" y=\"73.725296\" style=\"stroke: #000000; stroke-width: 0.8\"/>\n      </g>\n     </g>\n     <g id=\"text_1\">\n      <!-- −0.05 -->\n      <g transform=\"translate(20.878125 77.524514) scale(0.1 -0.1)\">\n       <defs>\n        <path id=\"DejaVuSans-2212\" d=\"M 678 2272 \nL 4684 2272 \nL 4684 1741 \nL 678 1741 \nL 678 2272 \nz\n\" transform=\"scale(0.015625)\"/>\n        <path id=\"DejaVuSans-30\" d=\"M 2034 4250 \nQ 1547 4250 1301 3770 \nQ 1056 3291 1056 2328 \nQ 1056 1369 1301 889 \nQ 1547 409 2034 409 \nQ 2525 409 2770 889 \nQ 3016 1369 3016 2328 \nQ 3016 3291 2770 3770 \nQ 2525 4250 2034 4250 \nz\nM 2034 4750 \nQ 2819 4750 3233 4129 \nQ 3647 3509 3647 2328 \nQ 3647 1150 3233 529 \nQ 2819 -91 2034 -91 \nQ 1250 -91 836 529 \nQ 422 1150 422 2328 \nQ 422 3509 836 4129 \nQ 1250 4750 2034 4750 \nz\n\" transform=\"scale(0.015625)\"/>\n        <path id=\"DejaVuSans-2e\" d=\"M 684 794 \nL 1344 794 \nL 1344 0 \nL 684 0 \nL 684 794 \nz\n\" transform=\"scale(0.015625)\"/>\n        <path id=\"DejaVuSans-35\" d=\"M 691 4666 \nL 3169 4666 \nL 3169 4134 \nL 1269 4134 \nL 1269 2991 \nQ 1406 3038 1543 3061 \nQ 1681 3084 1819 3084 \nQ 2600 3084 3056 2656 \nQ 3513 2228 3513 1497 \nQ 3513 744 3044 326 \nQ 2575 -91 1722 -91 \nQ 1428 -91 1123 -41 \nQ 819 9 494 109 \nL 494 744 \nQ 775 591 1075 516 \nQ 1375 441 1709 441 \nQ 2250 441 2565 725 \nQ 2881 1009 2881 1497 \nQ 2881 1984 2565 2268 \nQ 2250 2553 1709 2553 \nQ 1456 2553 1204 2497 \nQ 953 2441 691 2322 \nL 691 4666 \nz\n\" transform=\"scale(0.015625)\"/>\n       </defs>\n       <use xlink:href=\"#DejaVuSans-2212\"/>\n       <use xlink:href=\"#DejaVuSans-30\" transform=\"translate(83.789062 0)\"/>\n       <use xlink:href=\"#DejaVuSans-2e\" transform=\"translate(147.412109 0)\"/>\n       <use xlink:href=\"#DejaVuSans-30\" transform=\"translate(179.199219 0)\"/>\n       <use xlink:href=\"#DejaVuSans-35\" transform=\"translate(242.822266 0)\"/>\n      </g>\n     </g>\n    </g>\n    <g id=\"ytick_2\">\n     <g id=\"line2d_8\">\n      <g>\n       <use xlink:href=\"#m1ff39c9011\" x=\"58.523438\" y=\"53.421063\" style=\"stroke: #000000; stroke-width: 0.8\"/>\n      </g>\n     </g>\n     <g id=\"text_2\">\n      <!-- 0.00 -->\n      <g transform=\"translate(29.257813 57.220282) scale(0.1 -0.1)\">\n       <use xlink:href=\"#DejaVuSans-30\"/>\n       <use xlink:href=\"#DejaVuSans-2e\" transform=\"translate(63.623047 0)\"/>\n       <use xlink:href=\"#DejaVuSans-30\" transform=\"translate(95.410156 0)\"/>\n       <use xlink:href=\"#DejaVuSans-30\" transform=\"translate(159.033203 0)\"/>\n      </g>\n     </g>\n    </g>\n    <g id=\"ytick_3\">\n     <g id=\"line2d_9\">\n      <g>\n       <use xlink:href=\"#m1ff39c9011\" x=\"58.523438\" y=\"33.116831\" style=\"stroke: #000000; stroke-width: 0.8\"/>\n      </g>\n     </g>\n     <g id=\"text_3\">\n      <!-- 0.05 -->\n      <g transform=\"translate(29.257813 36.91605) scale(0.1 -0.1)\">\n       <use xlink:href=\"#DejaVuSans-30\"/>\n       <use xlink:href=\"#DejaVuSans-2e\" transform=\"translate(63.623047 0)\"/>\n       <use xlink:href=\"#DejaVuSans-30\" transform=\"translate(95.410156 0)\"/>\n       <use xlink:href=\"#DejaVuSans-35\" transform=\"translate(159.033203 0)\"/>\n      </g>\n     </g>\n    </g>\n    <g id=\"text_4\">\n     <!-- residuals -->\n     <g transform=\"translate(14.798438 76.988188) rotate(-90) scale(0.1 -0.1)\">\n      <defs>\n       <path id=\"DejaVuSans-72\" d=\"M 2631 2963 \nQ 2534 3019 2420 3045 \nQ 2306 3072 2169 3072 \nQ 1681 3072 1420 2755 \nQ 1159 2438 1159 1844 \nL 1159 0 \nL 581 0 \nL 581 3500 \nL 1159 3500 \nL 1159 2956 \nQ 1341 3275 1631 3429 \nQ 1922 3584 2338 3584 \nQ 2397 3584 2469 3576 \nQ 2541 3569 2628 3553 \nL 2631 2963 \nz\n\" transform=\"scale(0.015625)\"/>\n       <path id=\"DejaVuSans-65\" d=\"M 3597 1894 \nL 3597 1613 \nL 953 1613 \nQ 991 1019 1311 708 \nQ 1631 397 2203 397 \nQ 2534 397 2845 478 \nQ 3156 559 3463 722 \nL 3463 178 \nQ 3153 47 2828 -22 \nQ 2503 -91 2169 -91 \nQ 1331 -91 842 396 \nQ 353 884 353 1716 \nQ 353 2575 817 3079 \nQ 1281 3584 2069 3584 \nQ 2775 3584 3186 3129 \nQ 3597 2675 3597 1894 \nz\nM 3022 2063 \nQ 3016 2534 2758 2815 \nQ 2500 3097 2075 3097 \nQ 1594 3097 1305 2825 \nQ 1016 2553 972 2059 \nL 3022 2063 \nz\n\" transform=\"scale(0.015625)\"/>\n       <path id=\"DejaVuSans-73\" d=\"M 2834 3397 \nL 2834 2853 \nQ 2591 2978 2328 3040 \nQ 2066 3103 1784 3103 \nQ 1356 3103 1142 2972 \nQ 928 2841 928 2578 \nQ 928 2378 1081 2264 \nQ 1234 2150 1697 2047 \nL 1894 2003 \nQ 2506 1872 2764 1633 \nQ 3022 1394 3022 966 \nQ 3022 478 2636 193 \nQ 2250 -91 1575 -91 \nQ 1294 -91 989 -36 \nQ 684 19 347 128 \nL 347 722 \nQ 666 556 975 473 \nQ 1284 391 1588 391 \nQ 1994 391 2212 530 \nQ 2431 669 2431 922 \nQ 2431 1156 2273 1281 \nQ 2116 1406 1581 1522 \nL 1381 1569 \nQ 847 1681 609 1914 \nQ 372 2147 372 2553 \nQ 372 3047 722 3315 \nQ 1072 3584 1716 3584 \nQ 2034 3584 2315 3537 \nQ 2597 3491 2834 3397 \nz\n\" transform=\"scale(0.015625)\"/>\n       <path id=\"DejaVuSans-69\" d=\"M 603 3500 \nL 1178 3500 \nL 1178 0 \nL 603 0 \nL 603 3500 \nz\nM 603 4863 \nL 1178 4863 \nL 1178 4134 \nL 603 4134 \nL 603 4863 \nz\n\" transform=\"scale(0.015625)\"/>\n       <path id=\"DejaVuSans-64\" d=\"M 2906 2969 \nL 2906 4863 \nL 3481 4863 \nL 3481 0 \nL 2906 0 \nL 2906 525 \nQ 2725 213 2448 61 \nQ 2172 -91 1784 -91 \nQ 1150 -91 751 415 \nQ 353 922 353 1747 \nQ 353 2572 751 3078 \nQ 1150 3584 1784 3584 \nQ 2172 3584 2448 3432 \nQ 2725 3281 2906 2969 \nz\nM 947 1747 \nQ 947 1113 1208 752 \nQ 1469 391 1925 391 \nQ 2381 391 2643 752 \nQ 2906 1113 2906 1747 \nQ 2906 2381 2643 2742 \nQ 2381 3103 1925 3103 \nQ 1469 3103 1208 2742 \nQ 947 2381 947 1747 \nz\n\" transform=\"scale(0.015625)\"/>\n       <path id=\"DejaVuSans-75\" d=\"M 544 1381 \nL 544 3500 \nL 1119 3500 \nL 1119 1403 \nQ 1119 906 1312 657 \nQ 1506 409 1894 409 \nQ 2359 409 2629 706 \nQ 2900 1003 2900 1516 \nL 2900 3500 \nL 3475 3500 \nL 3475 0 \nL 2900 0 \nL 2900 538 \nQ 2691 219 2414 64 \nQ 2138 -91 1772 -91 \nQ 1169 -91 856 284 \nQ 544 659 544 1381 \nz\nM 1991 3584 \nL 1991 3584 \nz\n\" transform=\"scale(0.015625)\"/>\n       <path id=\"DejaVuSans-61\" d=\"M 2194 1759 \nQ 1497 1759 1228 1600 \nQ 959 1441 959 1056 \nQ 959 750 1161 570 \nQ 1363 391 1709 391 \nQ 2188 391 2477 730 \nQ 2766 1069 2766 1631 \nL 2766 1759 \nL 2194 1759 \nz\nM 3341 1997 \nL 3341 0 \nL 2766 0 \nL 2766 531 \nQ 2569 213 2275 61 \nQ 1981 -91 1556 -91 \nQ 1019 -91 701 211 \nQ 384 513 384 1019 \nQ 384 1609 779 1909 \nQ 1175 2209 1959 2209 \nL 2766 2209 \nL 2766 2266 \nQ 2766 2663 2505 2880 \nQ 2244 3097 1772 3097 \nQ 1472 3097 1187 3025 \nQ 903 2953 641 2809 \nL 641 3341 \nQ 956 3463 1253 3523 \nQ 1550 3584 1831 3584 \nQ 2591 3584 2966 3190 \nQ 3341 2797 3341 1997 \nz\n\" transform=\"scale(0.015625)\"/>\n       <path id=\"DejaVuSans-6c\" d=\"M 603 4863 \nL 1178 4863 \nL 1178 0 \nL 603 0 \nL 603 4863 \nz\n\" transform=\"scale(0.015625)\"/>\n      </defs>\n      <use xlink:href=\"#DejaVuSans-72\"/>\n      <use xlink:href=\"#DejaVuSans-65\" transform=\"translate(38.863281 0)\"/>\n      <use xlink:href=\"#DejaVuSans-73\" transform=\"translate(100.386719 0)\"/>\n      <use xlink:href=\"#DejaVuSans-69\" transform=\"translate(152.486328 0)\"/>\n      <use xlink:href=\"#DejaVuSans-64\" transform=\"translate(180.269531 0)\"/>\n      <use xlink:href=\"#DejaVuSans-75\" transform=\"translate(243.746094 0)\"/>\n      <use xlink:href=\"#DejaVuSans-61\" transform=\"translate(307.125 0)\"/>\n      <use xlink:href=\"#DejaVuSans-6c\" transform=\"translate(368.404297 0)\"/>\n      <use xlink:href=\"#DejaVuSans-73\" transform=\"translate(396.1875 0)\"/>\n     </g>\n    </g>\n   </g>\n   <g id=\"line2d_10\">\n    <path d=\"M 58.523438 53.421063 \nL 415.643438 53.421063 \n\" clip-path=\"url(#p443ef0fd23)\" style=\"fill: none; stroke: #000000; stroke-width: 1.5; stroke-linecap: square\"/>\n   </g>\n   <g id=\"line2d_11\">\n    <defs>\n     <path id=\"md48aa8cb35\" d=\"M 0 3 \nC 0.795609 3 1.55874 2.683901 2.12132 2.12132 \nC 2.683901 1.55874 3 0.795609 3 0 \nC 3 -0.795609 2.683901 -1.55874 2.12132 -2.12132 \nC 1.55874 -2.683901 0.795609 -3 0 -3 \nC -0.795609 -3 -1.55874 -2.683901 -2.12132 -2.12132 \nC -2.683901 -1.55874 -3 -0.795609 -3 0 \nC -3 0.795609 -2.683901 1.55874 -2.12132 2.12132 \nC -1.55874 2.683901 -0.795609 3 0 3 \nz\n\" style=\"stroke: #1f77b4\"/>\n    </defs>\n    <g clip-path=\"url(#p443ef0fd23)\">\n     <use xlink:href=\"#md48aa8cb35\" x=\"74.756165\" y=\"60.308793\" style=\"fill: #1f77b4; stroke: #1f77b4\"/>\n     <use xlink:href=\"#md48aa8cb35\" x=\"78.814347\" y=\"56.592049\" style=\"fill: #1f77b4; stroke: #1f77b4\"/>\n     <use xlink:href=\"#md48aa8cb35\" x=\"81.519801\" y=\"58.67957\" style=\"fill: #1f77b4; stroke: #1f77b4\"/>\n     <use xlink:href=\"#md48aa8cb35\" x=\"88.283438\" y=\"61.183387\" style=\"fill: #1f77b4; stroke: #1f77b4\"/>\n     <use xlink:href=\"#md48aa8cb35\" x=\"95.047074\" y=\"59.165874\" style=\"fill: #1f77b4; stroke: #1f77b4\"/>\n     <use xlink:href=\"#md48aa8cb35\" x=\"101.81071\" y=\"58.614862\" style=\"fill: #1f77b4; stroke: #1f77b4\"/>\n     <use xlink:href=\"#md48aa8cb35\" x=\"115.337983\" y=\"71.222648\" style=\"fill: #1f77b4; stroke: #1f77b4\"/>\n     <use xlink:href=\"#md48aa8cb35\" x=\"135.628892\" y=\"42.512171\" style=\"fill: #1f77b4; stroke: #1f77b4\"/>\n     <use xlink:href=\"#md48aa8cb35\" x=\"155.919801\" y=\"25.250489\" style=\"fill: #1f77b4; stroke: #1f77b4\"/>\n     <use xlink:href=\"#md48aa8cb35\" x=\"176.21071\" y=\"54.39325\" style=\"fill: #1f77b4; stroke: #1f77b4\"/>\n     <use xlink:href=\"#md48aa8cb35\" x=\"196.501619\" y=\"83.897761\" style=\"fill: #1f77b4; stroke: #1f77b4\"/>\n     <use xlink:href=\"#md48aa8cb35\" x=\"237.083438\" y=\"57.899668\" style=\"fill: #1f77b4; stroke: #1f77b4\"/>\n     <use xlink:href=\"#md48aa8cb35\" x=\"277.665256\" y=\"63.469173\" style=\"fill: #1f77b4; stroke: #1f77b4\"/>\n     <use xlink:href=\"#md48aa8cb35\" x=\"318.247074\" y=\"59.631683\" style=\"fill: #1f77b4; stroke: #1f77b4\"/>\n     <use xlink:href=\"#md48aa8cb35\" x=\"358.828892\" y=\"56.527318\" style=\"fill: #1f77b4; stroke: #1f77b4\"/>\n     <use xlink:href=\"#md48aa8cb35\" x=\"399.41071\" y=\"53.391817\" style=\"fill: #1f77b4; stroke: #1f77b4\"/>\n    </g>\n   </g>\n   <g id=\"patch_3\">\n    <path d=\"M 58.523438 86.830125 \nL 58.523438 22.318125 \n\" style=\"fill: none; stroke: #000000; stroke-width: 0.8; stroke-linejoin: miter; stroke-linecap: square\"/>\n   </g>\n   <g id=\"patch_4\">\n    <path d=\"M 415.643438 86.830125 \nL 415.643438 22.318125 \n\" style=\"fill: none; stroke: #000000; stroke-width: 0.8; stroke-linejoin: miter; stroke-linecap: square\"/>\n   </g>\n   <g id=\"patch_5\">\n    <path d=\"M 58.523438 86.830125 \nL 415.643438 86.830125 \n\" style=\"fill: none; stroke: #000000; stroke-width: 0.8; stroke-linejoin: miter; stroke-linecap: square\"/>\n   </g>\n   <g id=\"patch_6\">\n    <path d=\"M 58.523438 22.318125 \nL 415.643438 22.318125 \n\" style=\"fill: none; stroke: #000000; stroke-width: 0.8; stroke-linejoin: miter; stroke-linecap: square\"/>\n   </g>\n   <g id=\"text_5\">\n    <!-- Model(Yoon_Nelson) -->\n    <g transform=\"translate(176.924062 16.318125) scale(0.12 -0.12)\">\n     <defs>\n      <path id=\"DejaVuSans-4d\" d=\"M 628 4666 \nL 1569 4666 \nL 2759 1491 \nL 3956 4666 \nL 4897 4666 \nL 4897 0 \nL 4281 0 \nL 4281 4097 \nL 3078 897 \nL 2444 897 \nL 1241 4097 \nL 1241 0 \nL 628 0 \nL 628 4666 \nz\n\" transform=\"scale(0.015625)\"/>\n      <path id=\"DejaVuSans-6f\" d=\"M 1959 3097 \nQ 1497 3097 1228 2736 \nQ 959 2375 959 1747 \nQ 959 1119 1226 758 \nQ 1494 397 1959 397 \nQ 2419 397 2687 759 \nQ 2956 1122 2956 1747 \nQ 2956 2369 2687 2733 \nQ 2419 3097 1959 3097 \nz\nM 1959 3584 \nQ 2709 3584 3137 3096 \nQ 3566 2609 3566 1747 \nQ 3566 888 3137 398 \nQ 2709 -91 1959 -91 \nQ 1206 -91 779 398 \nQ 353 888 353 1747 \nQ 353 2609 779 3096 \nQ 1206 3584 1959 3584 \nz\n\" transform=\"scale(0.015625)\"/>\n      <path id=\"DejaVuSans-28\" d=\"M 1984 4856 \nQ 1566 4138 1362 3434 \nQ 1159 2731 1159 2009 \nQ 1159 1288 1364 580 \nQ 1569 -128 1984 -844 \nL 1484 -844 \nQ 1016 -109 783 600 \nQ 550 1309 550 2009 \nQ 550 2706 781 3412 \nQ 1013 4119 1484 4856 \nL 1984 4856 \nz\n\" transform=\"scale(0.015625)\"/>\n      <path id=\"DejaVuSans-59\" d=\"M -13 4666 \nL 666 4666 \nL 1959 2747 \nL 3244 4666 \nL 3922 4666 \nL 2272 2222 \nL 2272 0 \nL 1638 0 \nL 1638 2222 \nL -13 4666 \nz\n\" transform=\"scale(0.015625)\"/>\n      <path id=\"DejaVuSans-6e\" d=\"M 3513 2113 \nL 3513 0 \nL 2938 0 \nL 2938 2094 \nQ 2938 2591 2744 2837 \nQ 2550 3084 2163 3084 \nQ 1697 3084 1428 2787 \nQ 1159 2491 1159 1978 \nL 1159 0 \nL 581 0 \nL 581 3500 \nL 1159 3500 \nL 1159 2956 \nQ 1366 3272 1645 3428 \nQ 1925 3584 2291 3584 \nQ 2894 3584 3203 3211 \nQ 3513 2838 3513 2113 \nz\n\" transform=\"scale(0.015625)\"/>\n      <path id=\"DejaVuSans-5f\" d=\"M 3263 -1063 \nL 3263 -1509 \nL -63 -1509 \nL -63 -1063 \nL 3263 -1063 \nz\n\" transform=\"scale(0.015625)\"/>\n      <path id=\"DejaVuSans-4e\" d=\"M 628 4666 \nL 1478 4666 \nL 3547 763 \nL 3547 4666 \nL 4159 4666 \nL 4159 0 \nL 3309 0 \nL 1241 3903 \nL 1241 0 \nL 628 0 \nL 628 4666 \nz\n\" transform=\"scale(0.015625)\"/>\n      <path id=\"DejaVuSans-29\" d=\"M 513 4856 \nL 1013 4856 \nQ 1481 4119 1714 3412 \nQ 1947 2706 1947 2009 \nQ 1947 1309 1714 600 \nQ 1481 -109 1013 -844 \nL 513 -844 \nQ 928 -128 1133 580 \nQ 1338 1288 1338 2009 \nQ 1338 2731 1133 3434 \nQ 928 4138 513 4856 \nz\n\" transform=\"scale(0.015625)\"/>\n     </defs>\n     <use xlink:href=\"#DejaVuSans-4d\"/>\n     <use xlink:href=\"#DejaVuSans-6f\" transform=\"translate(86.279297 0)\"/>\n     <use xlink:href=\"#DejaVuSans-64\" transform=\"translate(147.460938 0)\"/>\n     <use xlink:href=\"#DejaVuSans-65\" transform=\"translate(210.9375 0)\"/>\n     <use xlink:href=\"#DejaVuSans-6c\" transform=\"translate(272.460938 0)\"/>\n     <use xlink:href=\"#DejaVuSans-28\" transform=\"translate(300.244141 0)\"/>\n     <use xlink:href=\"#DejaVuSans-59\" transform=\"translate(339.257812 0)\"/>\n     <use xlink:href=\"#DejaVuSans-6f\" transform=\"translate(387.091797 0)\"/>\n     <use xlink:href=\"#DejaVuSans-6f\" transform=\"translate(448.273438 0)\"/>\n     <use xlink:href=\"#DejaVuSans-6e\" transform=\"translate(509.455078 0)\"/>\n     <use xlink:href=\"#DejaVuSans-5f\" transform=\"translate(572.833984 0)\"/>\n     <use xlink:href=\"#DejaVuSans-4e\" transform=\"translate(622.833984 0)\"/>\n     <use xlink:href=\"#DejaVuSans-65\" transform=\"translate(697.638672 0)\"/>\n     <use xlink:href=\"#DejaVuSans-6c\" transform=\"translate(759.162109 0)\"/>\n     <use xlink:href=\"#DejaVuSans-73\" transform=\"translate(786.945312 0)\"/>\n     <use xlink:href=\"#DejaVuSans-6f\" transform=\"translate(839.044922 0)\"/>\n     <use xlink:href=\"#DejaVuSans-6e\" transform=\"translate(900.226562 0)\"/>\n     <use xlink:href=\"#DejaVuSans-29\" transform=\"translate(963.605469 0)\"/>\n    </g>\n   </g>\n  </g>\n  <g id=\"axes_2\">\n   <g id=\"patch_7\">\n    <path d=\"M 58.523438 377.134125 \nL 415.643438 377.134125 \nL 415.643438 119.086125 \nL 58.523438 119.086125 \nz\n\" style=\"fill: #ffffff\"/>\n   </g>\n   <g id=\"matplotlib.axis_3\">\n    <g id=\"xtick_7\">\n     <g id=\"line2d_12\">\n      <g>\n       <use xlink:href=\"#m028a79e08c\" x=\"74.756165\" y=\"377.134125\" style=\"stroke: #000000; stroke-width: 0.8\"/>\n      </g>\n     </g>\n     <g id=\"text_6\">\n      <!-- 0 -->\n      <g transform=\"translate(71.574915 391.732562) scale(0.1 -0.1)\">\n       <use xlink:href=\"#DejaVuSans-30\"/>\n      </g>\n     </g>\n    </g>\n    <g id=\"xtick_8\">\n     <g id=\"line2d_13\">\n      <g>\n       <use xlink:href=\"#m028a79e08c\" x=\"142.392528\" y=\"377.134125\" style=\"stroke: #000000; stroke-width: 0.8\"/>\n      </g>\n     </g>\n     <g id=\"text_7\">\n      <!-- 50 -->\n      <g transform=\"translate(136.030028 391.732562) scale(0.1 -0.1)\">\n       <use xlink:href=\"#DejaVuSans-35\"/>\n       <use xlink:href=\"#DejaVuSans-30\" transform=\"translate(63.623047 0)\"/>\n      </g>\n     </g>\n    </g>\n    <g id=\"xtick_9\">\n     <g id=\"line2d_14\">\n      <g>\n       <use xlink:href=\"#m028a79e08c\" x=\"210.028892\" y=\"377.134125\" style=\"stroke: #000000; stroke-width: 0.8\"/>\n      </g>\n     </g>\n     <g id=\"text_8\">\n      <!-- 100 -->\n      <g transform=\"translate(200.485142 391.732562) scale(0.1 -0.1)\">\n       <defs>\n        <path id=\"DejaVuSans-31\" d=\"M 794 531 \nL 1825 531 \nL 1825 4091 \nL 703 3866 \nL 703 4441 \nL 1819 4666 \nL 2450 4666 \nL 2450 531 \nL 3481 531 \nL 3481 0 \nL 794 0 \nL 794 531 \nz\n\" transform=\"scale(0.015625)\"/>\n       </defs>\n       <use xlink:href=\"#DejaVuSans-31\"/>\n       <use xlink:href=\"#DejaVuSans-30\" transform=\"translate(63.623047 0)\"/>\n       <use xlink:href=\"#DejaVuSans-30\" transform=\"translate(127.246094 0)\"/>\n      </g>\n     </g>\n    </g>\n    <g id=\"xtick_10\">\n     <g id=\"line2d_15\">\n      <g>\n       <use xlink:href=\"#m028a79e08c\" x=\"277.665256\" y=\"377.134125\" style=\"stroke: #000000; stroke-width: 0.8\"/>\n      </g>\n     </g>\n     <g id=\"text_9\">\n      <!-- 150 -->\n      <g transform=\"translate(268.121506 391.732562) scale(0.1 -0.1)\">\n       <use xlink:href=\"#DejaVuSans-31\"/>\n       <use xlink:href=\"#DejaVuSans-35\" transform=\"translate(63.623047 0)\"/>\n       <use xlink:href=\"#DejaVuSans-30\" transform=\"translate(127.246094 0)\"/>\n      </g>\n     </g>\n    </g>\n    <g id=\"xtick_11\">\n     <g id=\"line2d_16\">\n      <g>\n       <use xlink:href=\"#m028a79e08c\" x=\"345.301619\" y=\"377.134125\" style=\"stroke: #000000; stroke-width: 0.8\"/>\n      </g>\n     </g>\n     <g id=\"text_10\">\n      <!-- 200 -->\n      <g transform=\"translate(335.757869 391.732562) scale(0.1 -0.1)\">\n       <defs>\n        <path id=\"DejaVuSans-32\" d=\"M 1228 531 \nL 3431 531 \nL 3431 0 \nL 469 0 \nL 469 531 \nQ 828 903 1448 1529 \nQ 2069 2156 2228 2338 \nQ 2531 2678 2651 2914 \nQ 2772 3150 2772 3378 \nQ 2772 3750 2511 3984 \nQ 2250 4219 1831 4219 \nQ 1534 4219 1204 4116 \nQ 875 4013 500 3803 \nL 500 4441 \nQ 881 4594 1212 4672 \nQ 1544 4750 1819 4750 \nQ 2544 4750 2975 4387 \nQ 3406 4025 3406 3419 \nQ 3406 3131 3298 2873 \nQ 3191 2616 2906 2266 \nQ 2828 2175 2409 1742 \nQ 1991 1309 1228 531 \nz\n\" transform=\"scale(0.015625)\"/>\n       </defs>\n       <use xlink:href=\"#DejaVuSans-32\"/>\n       <use xlink:href=\"#DejaVuSans-30\" transform=\"translate(63.623047 0)\"/>\n       <use xlink:href=\"#DejaVuSans-30\" transform=\"translate(127.246094 0)\"/>\n      </g>\n     </g>\n    </g>\n    <g id=\"xtick_12\">\n     <g id=\"line2d_17\">\n      <g>\n       <use xlink:href=\"#m028a79e08c\" x=\"412.937983\" y=\"377.134125\" style=\"stroke: #000000; stroke-width: 0.8\"/>\n      </g>\n     </g>\n     <g id=\"text_11\">\n      <!-- 250 -->\n      <g transform=\"translate(403.394233 391.732562) scale(0.1 -0.1)\">\n       <use xlink:href=\"#DejaVuSans-32\"/>\n       <use xlink:href=\"#DejaVuSans-35\" transform=\"translate(63.623047 0)\"/>\n       <use xlink:href=\"#DejaVuSans-30\" transform=\"translate(127.246094 0)\"/>\n      </g>\n     </g>\n    </g>\n    <g id=\"text_12\">\n     <!-- t -->\n     <g transform=\"translate(235.123281 405.410687) scale(0.1 -0.1)\">\n      <defs>\n       <path id=\"DejaVuSans-74\" d=\"M 1172 4494 \nL 1172 3500 \nL 2356 3500 \nL 2356 3053 \nL 1172 3053 \nL 1172 1153 \nQ 1172 725 1289 603 \nQ 1406 481 1766 481 \nL 2356 481 \nL 2356 0 \nL 1766 0 \nQ 1100 0 847 248 \nQ 594 497 594 1153 \nL 594 3053 \nL 172 3053 \nL 172 3500 \nL 594 3500 \nL 594 4494 \nL 1172 4494 \nz\n\" transform=\"scale(0.015625)\"/>\n      </defs>\n      <use xlink:href=\"#DejaVuSans-74\"/>\n     </g>\n    </g>\n   </g>\n   <g id=\"matplotlib.axis_4\">\n    <g id=\"ytick_4\">\n     <g id=\"line2d_18\">\n      <g>\n       <use xlink:href=\"#m1ff39c9011\" x=\"58.523438\" y=\"371.419775\" style=\"stroke: #000000; stroke-width: 0.8\"/>\n      </g>\n     </g>\n     <g id=\"text_13\">\n      <!-- 0.0 -->\n      <g transform=\"translate(35.620313 375.218994) scale(0.1 -0.1)\">\n       <use xlink:href=\"#DejaVuSans-30\"/>\n       <use xlink:href=\"#DejaVuSans-2e\" transform=\"translate(63.623047 0)\"/>\n       <use xlink:href=\"#DejaVuSans-30\" transform=\"translate(95.410156 0)\"/>\n      </g>\n     </g>\n    </g>\n    <g id=\"ytick_5\">\n     <g id=\"line2d_19\">\n      <g>\n       <use xlink:href=\"#m1ff39c9011\" x=\"58.523438\" y=\"323.298936\" style=\"stroke: #000000; stroke-width: 0.8\"/>\n      </g>\n     </g>\n     <g id=\"text_14\">\n      <!-- 0.2 -->\n      <g transform=\"translate(35.620313 327.098155) scale(0.1 -0.1)\">\n       <use xlink:href=\"#DejaVuSans-30\"/>\n       <use xlink:href=\"#DejaVuSans-2e\" transform=\"translate(63.623047 0)\"/>\n       <use xlink:href=\"#DejaVuSans-32\" transform=\"translate(95.410156 0)\"/>\n      </g>\n     </g>\n    </g>\n    <g id=\"ytick_6\">\n     <g id=\"line2d_20\">\n      <g>\n       <use xlink:href=\"#m1ff39c9011\" x=\"58.523438\" y=\"275.178097\" style=\"stroke: #000000; stroke-width: 0.8\"/>\n      </g>\n     </g>\n     <g id=\"text_15\">\n      <!-- 0.4 -->\n      <g transform=\"translate(35.620313 278.977316) scale(0.1 -0.1)\">\n       <defs>\n        <path id=\"DejaVuSans-34\" d=\"M 2419 4116 \nL 825 1625 \nL 2419 1625 \nL 2419 4116 \nz\nM 2253 4666 \nL 3047 4666 \nL 3047 1625 \nL 3713 1625 \nL 3713 1100 \nL 3047 1100 \nL 3047 0 \nL 2419 0 \nL 2419 1100 \nL 313 1100 \nL 313 1709 \nL 2253 4666 \nz\n\" transform=\"scale(0.015625)\"/>\n       </defs>\n       <use xlink:href=\"#DejaVuSans-30\"/>\n       <use xlink:href=\"#DejaVuSans-2e\" transform=\"translate(63.623047 0)\"/>\n       <use xlink:href=\"#DejaVuSans-34\" transform=\"translate(95.410156 0)\"/>\n      </g>\n     </g>\n    </g>\n    <g id=\"ytick_7\">\n     <g id=\"line2d_21\">\n      <g>\n       <use xlink:href=\"#m1ff39c9011\" x=\"58.523438\" y=\"227.057258\" style=\"stroke: #000000; stroke-width: 0.8\"/>\n      </g>\n     </g>\n     <g id=\"text_16\">\n      <!-- 0.6 -->\n      <g transform=\"translate(35.620313 230.856477) scale(0.1 -0.1)\">\n       <defs>\n        <path id=\"DejaVuSans-36\" d=\"M 2113 2584 \nQ 1688 2584 1439 2293 \nQ 1191 2003 1191 1497 \nQ 1191 994 1439 701 \nQ 1688 409 2113 409 \nQ 2538 409 2786 701 \nQ 3034 994 3034 1497 \nQ 3034 2003 2786 2293 \nQ 2538 2584 2113 2584 \nz\nM 3366 4563 \nL 3366 3988 \nQ 3128 4100 2886 4159 \nQ 2644 4219 2406 4219 \nQ 1781 4219 1451 3797 \nQ 1122 3375 1075 2522 \nQ 1259 2794 1537 2939 \nQ 1816 3084 2150 3084 \nQ 2853 3084 3261 2657 \nQ 3669 2231 3669 1497 \nQ 3669 778 3244 343 \nQ 2819 -91 2113 -91 \nQ 1303 -91 875 529 \nQ 447 1150 447 2328 \nQ 447 3434 972 4092 \nQ 1497 4750 2381 4750 \nQ 2619 4750 2861 4703 \nQ 3103 4656 3366 4563 \nz\n\" transform=\"scale(0.015625)\"/>\n       </defs>\n       <use xlink:href=\"#DejaVuSans-30\"/>\n       <use xlink:href=\"#DejaVuSans-2e\" transform=\"translate(63.623047 0)\"/>\n       <use xlink:href=\"#DejaVuSans-36\" transform=\"translate(95.410156 0)\"/>\n      </g>\n     </g>\n    </g>\n    <g id=\"ytick_8\">\n     <g id=\"line2d_22\">\n      <g>\n       <use xlink:href=\"#m1ff39c9011\" x=\"58.523438\" y=\"178.936419\" style=\"stroke: #000000; stroke-width: 0.8\"/>\n      </g>\n     </g>\n     <g id=\"text_17\">\n      <!-- 0.8 -->\n      <g transform=\"translate(35.620313 182.735637) scale(0.1 -0.1)\">\n       <defs>\n        <path id=\"DejaVuSans-38\" d=\"M 2034 2216 \nQ 1584 2216 1326 1975 \nQ 1069 1734 1069 1313 \nQ 1069 891 1326 650 \nQ 1584 409 2034 409 \nQ 2484 409 2743 651 \nQ 3003 894 3003 1313 \nQ 3003 1734 2745 1975 \nQ 2488 2216 2034 2216 \nz\nM 1403 2484 \nQ 997 2584 770 2862 \nQ 544 3141 544 3541 \nQ 544 4100 942 4425 \nQ 1341 4750 2034 4750 \nQ 2731 4750 3128 4425 \nQ 3525 4100 3525 3541 \nQ 3525 3141 3298 2862 \nQ 3072 2584 2669 2484 \nQ 3125 2378 3379 2068 \nQ 3634 1759 3634 1313 \nQ 3634 634 3220 271 \nQ 2806 -91 2034 -91 \nQ 1263 -91 848 271 \nQ 434 634 434 1313 \nQ 434 1759 690 2068 \nQ 947 2378 1403 2484 \nz\nM 1172 3481 \nQ 1172 3119 1398 2916 \nQ 1625 2713 2034 2713 \nQ 2441 2713 2670 2916 \nQ 2900 3119 2900 3481 \nQ 2900 3844 2670 4047 \nQ 2441 4250 2034 4250 \nQ 1625 4250 1398 4047 \nQ 1172 3844 1172 3481 \nz\n\" transform=\"scale(0.015625)\"/>\n       </defs>\n       <use xlink:href=\"#DejaVuSans-30\"/>\n       <use xlink:href=\"#DejaVuSans-2e\" transform=\"translate(63.623047 0)\"/>\n       <use xlink:href=\"#DejaVuSans-38\" transform=\"translate(95.410156 0)\"/>\n      </g>\n     </g>\n    </g>\n    <g id=\"ytick_9\">\n     <g id=\"line2d_23\">\n      <g>\n       <use xlink:href=\"#m1ff39c9011\" x=\"58.523438\" y=\"130.81558\" style=\"stroke: #000000; stroke-width: 0.8\"/>\n      </g>\n     </g>\n     <g id=\"text_18\">\n      <!-- 1.0 -->\n      <g transform=\"translate(35.620313 134.614798) scale(0.1 -0.1)\">\n       <use xlink:href=\"#DejaVuSans-31\"/>\n       <use xlink:href=\"#DejaVuSans-2e\" transform=\"translate(63.623047 0)\"/>\n       <use xlink:href=\"#DejaVuSans-30\" transform=\"translate(95.410156 0)\"/>\n      </g>\n     </g>\n    </g>\n    <g id=\"text_19\">\n     <!-- y -->\n     <g transform=\"translate(29.540625 251.0695) rotate(-90) scale(0.1 -0.1)\">\n      <defs>\n       <path id=\"DejaVuSans-79\" d=\"M 2059 -325 \nQ 1816 -950 1584 -1140 \nQ 1353 -1331 966 -1331 \nL 506 -1331 \nL 506 -850 \nL 844 -850 \nQ 1081 -850 1212 -737 \nQ 1344 -625 1503 -206 \nL 1606 56 \nL 191 3500 \nL 800 3500 \nL 1894 763 \nL 2988 3500 \nL 3597 3500 \nL 2059 -325 \nz\n\" transform=\"scale(0.015625)\"/>\n      </defs>\n      <use xlink:href=\"#DejaVuSans-79\"/>\n     </g>\n    </g>\n   </g>\n   <g id=\"line2d_24\">\n    <g clip-path=\"url(#p9ebc998026)\">\n     <use xlink:href=\"#md48aa8cb35\" x=\"74.756165\" y=\"365.40467\" style=\"fill: #1f77b4; stroke: #1f77b4\"/>\n     <use xlink:href=\"#md48aa8cb35\" x=\"78.814347\" y=\"361.555003\" style=\"fill: #1f77b4; stroke: #1f77b4\"/>\n     <use xlink:href=\"#md48aa8cb35\" x=\"81.519801\" y=\"361.555003\" style=\"fill: #1f77b4; stroke: #1f77b4\"/>\n     <use xlink:href=\"#md48aa8cb35\" x=\"88.283438\" y=\"359.389566\" style=\"fill: #1f77b4; stroke: #1f77b4\"/>\n     <use xlink:href=\"#md48aa8cb35\" x=\"95.047074\" y=\"353.615065\" style=\"fill: #1f77b4; stroke: #1f77b4\"/>\n     <use xlink:href=\"#md48aa8cb35\" x=\"101.81071\" y=\"347.59996\" style=\"fill: #1f77b4; stroke: #1f77b4\"/>\n     <use xlink:href=\"#md48aa8cb35\" x=\"115.337983\" y=\"339.660022\" style=\"fill: #1f77b4; stroke: #1f77b4\"/>\n     <use xlink:href=\"#md48aa8cb35\" x=\"135.628892\" y=\"287.930119\" style=\"fill: #1f77b4; stroke: #1f77b4\"/>\n     <use xlink:href=\"#md48aa8cb35\" x=\"155.919801\" y=\"232.109946\" style=\"fill: #1f77b4; stroke: #1f77b4\"/>\n     <use xlink:href=\"#md48aa8cb35\" x=\"176.21071\" y=\"204.440463\" style=\"fill: #1f77b4; stroke: #1f77b4\"/>\n     <use xlink:href=\"#md48aa8cb35\" x=\"196.501619\" y=\"188.560587\" style=\"fill: #1f77b4; stroke: #1f77b4\"/>\n     <use xlink:href=\"#md48aa8cb35\" x=\"237.083438\" y=\"142.845789\" style=\"fill: #1f77b4; stroke: #1f77b4\"/>\n     <use xlink:href=\"#md48aa8cb35\" x=\"277.665256\" y=\"138.755518\" style=\"fill: #1f77b4; stroke: #1f77b4\"/>\n     <use xlink:href=\"#md48aa8cb35\" x=\"318.247074\" y=\"134.905851\" style=\"fill: #1f77b4; stroke: #1f77b4\"/>\n     <use xlink:href=\"#md48aa8cb35\" x=\"358.828892\" y=\"132.740413\" style=\"fill: #1f77b4; stroke: #1f77b4\"/>\n     <use xlink:href=\"#md48aa8cb35\" x=\"399.41071\" y=\"130.81558\" style=\"fill: #1f77b4; stroke: #1f77b4\"/>\n    </g>\n   </g>\n   <g id=\"line2d_25\">\n    <path d=\"M 74.756165 361.323707 \nL 78.035504 360.011022 \nL 81.314842 358.5372 \nL 84.594181 356.88506 \nL 87.87352 355.036283 \nL 91.152859 352.971536 \nL 94.432198 350.670658 \nL 97.711537 348.112918 \nL 100.990876 345.277377 \nL 104.270214 342.143338 \nL 107.549553 338.690919 \nL 110.828892 334.901727 \nL 114.108231 330.759647 \nL 117.38757 326.25173 \nL 120.666909 321.369135 \nL 123.946247 316.108116 \nL 127.225586 310.47097 \nL 130.504925 304.466902 \nL 133.784264 298.112714 \nL 137.063603 291.433253 \nL 140.342942 284.461528 \nL 143.62228 277.238455 \nL 146.901619 269.812176 \nL 150.180958 262.236968 \nL 153.460297 254.571767 \nL 156.739636 246.878395 \nL 160.018975 239.219585 \nL 163.298314 231.65695 \nL 166.577652 224.249029 \nL 169.856991 217.049532 \nL 173.13633 210.105909 \nL 176.415669 203.458291 \nL 179.695008 197.13886 \nL 182.974347 191.171627 \nL 186.253685 185.572596 \nL 189.533024 180.350229 \nL 192.812363 175.506165 \nL 196.091702 171.036093 \nL 199.371041 166.930709 \nL 202.65038 163.176695 \nL 205.929718 159.757666 \nL 209.209057 156.655044 \nL 212.488396 153.848831 \nL 215.767735 151.318284 \nL 219.047074 149.042465 \nL 222.326413 147.000688 \nL 225.605752 145.172864 \nL 228.88509 143.539756 \nL 232.164429 142.08316 \nL 235.443768 140.786012 \nL 238.723107 139.632453 \nL 242.002446 138.607849 \nL 245.281785 137.698778 \nL 248.561123 136.892993 \nL 251.840462 136.179374 \nL 255.119801 135.547857 \nL 258.39914 134.989375 \nL 261.678479 134.495773 \nL 264.957818 134.059745 \nL 268.237157 133.674754 \nL 271.516495 133.334966 \nL 274.795834 133.035182 \nL 278.075173 132.770776 \nL 281.354512 132.537639 \nL 284.633851 132.332125 \nL 287.91319 132.151001 \nL 291.192528 131.991402 \nL 294.471867 131.850794 \nL 297.751206 131.726937 \nL 301.030545 131.617849 \nL 304.309884 131.52178 \nL 307.589223 131.437185 \nL 310.868561 131.362701 \nL 314.1479 131.297123 \nL 317.427239 131.239392 \nL 320.706578 131.188572 \nL 323.985917 131.143837 \nL 327.265256 131.104461 \nL 330.544595 131.069803 \nL 333.823933 131.0393 \nL 337.103272 131.012453 \nL 340.382611 130.988826 \nL 343.66195 130.968032 \nL 346.941289 130.949733 \nL 350.220628 130.933629 \nL 353.499966 130.919458 \nL 356.779305 130.906987 \nL 360.058644 130.896013 \nL 363.337983 130.886355 \nL 366.617322 130.877858 \nL 369.896661 130.87038 \nL 373.175999 130.8638 \nL 376.455338 130.858009 \nL 379.734677 130.852914 \nL 383.014016 130.848431 \nL 386.293355 130.844486 \nL 389.572694 130.841015 \nL 392.852033 130.83796 \nL 396.131371 130.835273 \nL 399.41071 130.832908 \n\" clip-path=\"url(#p9ebc998026)\" style=\"fill: none; stroke: #ff7f0e; stroke-width: 1.5; stroke-linecap: square\"/>\n   </g>\n   <g id=\"patch_8\">\n    <path d=\"M 58.523438 377.134125 \nL 58.523438 119.086125 \n\" style=\"fill: none; stroke: #000000; stroke-width: 0.8; stroke-linejoin: miter; stroke-linecap: square\"/>\n   </g>\n   <g id=\"patch_9\">\n    <path d=\"M 415.643438 377.134125 \nL 415.643438 119.086125 \n\" style=\"fill: none; stroke: #000000; stroke-width: 0.8; stroke-linejoin: miter; stroke-linecap: square\"/>\n   </g>\n   <g id=\"patch_10\">\n    <path d=\"M 58.523438 377.134125 \nL 415.643438 377.134125 \n\" style=\"fill: none; stroke: #000000; stroke-width: 0.8; stroke-linejoin: miter; stroke-linecap: square\"/>\n   </g>\n   <g id=\"patch_11\">\n    <path d=\"M 58.523438 119.086125 \nL 415.643438 119.086125 \n\" style=\"fill: none; stroke: #000000; stroke-width: 0.8; stroke-linejoin: miter; stroke-linecap: square\"/>\n   </g>\n   <g id=\"legend_1\">\n    <g id=\"patch_12\">\n     <path d=\"M 65.523438 156.442375 \nL 132.551562 156.442375 \nQ 134.551562 156.442375 134.551562 154.442375 \nL 134.551562 126.086125 \nQ 134.551562 124.086125 132.551562 124.086125 \nL 65.523438 124.086125 \nQ 63.523438 124.086125 63.523438 126.086125 \nL 63.523438 154.442375 \nQ 63.523438 156.442375 65.523438 156.442375 \nz\n\" style=\"fill: #ffffff; opacity: 0.8; stroke: #cccccc; stroke-linejoin: miter\"/>\n    </g>\n    <g id=\"line2d_26\">\n     <g>\n      <use xlink:href=\"#md48aa8cb35\" x=\"77.523438\" y=\"132.184563\" style=\"fill: #1f77b4; stroke: #1f77b4\"/>\n     </g>\n    </g>\n    <g id=\"text_20\">\n     <!-- data -->\n     <g transform=\"translate(95.523438 135.684563) scale(0.1 -0.1)\">\n      <use xlink:href=\"#DejaVuSans-64\"/>\n      <use xlink:href=\"#DejaVuSans-61\" transform=\"translate(63.476562 0)\"/>\n      <use xlink:href=\"#DejaVuSans-74\" transform=\"translate(124.755859 0)\"/>\n      <use xlink:href=\"#DejaVuSans-61\" transform=\"translate(163.964844 0)\"/>\n     </g>\n    </g>\n    <g id=\"line2d_27\">\n     <path d=\"M 67.523438 146.862688 \nL 77.523438 146.862688 \nL 87.523438 146.862688 \n\" style=\"fill: none; stroke: #ff7f0e; stroke-width: 1.5; stroke-linecap: square\"/>\n    </g>\n    <g id=\"text_21\">\n     <!-- best fit -->\n     <g transform=\"translate(95.523438 150.362688) scale(0.1 -0.1)\">\n      <defs>\n       <path id=\"DejaVuSans-62\" d=\"M 3116 1747 \nQ 3116 2381 2855 2742 \nQ 2594 3103 2138 3103 \nQ 1681 3103 1420 2742 \nQ 1159 2381 1159 1747 \nQ 1159 1113 1420 752 \nQ 1681 391 2138 391 \nQ 2594 391 2855 752 \nQ 3116 1113 3116 1747 \nz\nM 1159 2969 \nQ 1341 3281 1617 3432 \nQ 1894 3584 2278 3584 \nQ 2916 3584 3314 3078 \nQ 3713 2572 3713 1747 \nQ 3713 922 3314 415 \nQ 2916 -91 2278 -91 \nQ 1894 -91 1617 61 \nQ 1341 213 1159 525 \nL 1159 0 \nL 581 0 \nL 581 4863 \nL 1159 4863 \nL 1159 2969 \nz\n\" transform=\"scale(0.015625)\"/>\n       <path id=\"DejaVuSans-20\" transform=\"scale(0.015625)\"/>\n       <path id=\"DejaVuSans-66\" d=\"M 2375 4863 \nL 2375 4384 \nL 1825 4384 \nQ 1516 4384 1395 4259 \nQ 1275 4134 1275 3809 \nL 1275 3500 \nL 2222 3500 \nL 2222 3053 \nL 1275 3053 \nL 1275 0 \nL 697 0 \nL 697 3053 \nL 147 3053 \nL 147 3500 \nL 697 3500 \nL 697 3744 \nQ 697 4328 969 4595 \nQ 1241 4863 1831 4863 \nL 2375 4863 \nz\n\" transform=\"scale(0.015625)\"/>\n      </defs>\n      <use xlink:href=\"#DejaVuSans-62\"/>\n      <use xlink:href=\"#DejaVuSans-65\" transform=\"translate(63.476562 0)\"/>\n      <use xlink:href=\"#DejaVuSans-73\" transform=\"translate(125 0)\"/>\n      <use xlink:href=\"#DejaVuSans-74\" transform=\"translate(177.099609 0)\"/>\n      <use xlink:href=\"#DejaVuSans-20\" transform=\"translate(216.308594 0)\"/>\n      <use xlink:href=\"#DejaVuSans-66\" transform=\"translate(248.095703 0)\"/>\n      <use xlink:href=\"#DejaVuSans-69\" transform=\"translate(283.300781 0)\"/>\n      <use xlink:href=\"#DejaVuSans-74\" transform=\"translate(311.083984 0)\"/>\n     </g>\n    </g>\n   </g>\n  </g>\n </g>\n <defs>\n  <clipPath id=\"p443ef0fd23\">\n   <rect x=\"58.523438\" y=\"22.318125\" width=\"357.12\" height=\"64.512\"/>\n  </clipPath>\n  <clipPath id=\"p9ebc998026\">\n   <rect x=\"58.523438\" y=\"119.086125\" width=\"357.12\" height=\"258.048\"/>\n  </clipPath>\n </defs>\n</svg>\n"
          },
          "metadata": {}
        }
      ]
    },
    {
      "cell_type": "code",
      "source": [
        "kYN = reg_modelo_YN.best_values['kYN']\n",
        "tau = reg_modelo_YN.best_values['tau']\n",
        "\n",
        "CCo_pred = np.empty(N)\n",
        "\n",
        "for i in range(N):\n",
        "  CCo_pred[i] = 1 / (1 + np.exp(kYN*(tau-time[i])))\n",
        "\n",
        "df = pd.DataFrame({'time':time,'C/Co experimental':CCo_exp, 'C/Co predito':CCo_pred})"
      ],
      "metadata": {
        "id": "-4HXJ0lkgqvt"
      },
      "execution_count": null,
      "outputs": []
    },
    {
      "cell_type": "code",
      "source": [
        "df"
      ],
      "metadata": {
        "colab": {
          "base_uri": "https://localhost:8080/",
          "height": 551
        },
        "id": "uvPy8MBihdLw",
        "outputId": "d1160bbb-3053-4526-e2c3-81fd05dcbe93"
      },
      "execution_count": null,
      "outputs": [
        {
          "output_type": "execute_result",
          "data": {
            "text/plain": [
              "    time  C/Co experimental  C/Co predito\n",
              "0      0              0.025      0.041961\n",
              "1      3              0.041      0.048809\n",
              "2      5              0.041      0.053949\n",
              "3     10              0.050      0.069115\n",
              "4     15              0.074      0.088147\n",
              "5     20              0.099      0.111790\n",
              "6     30              0.132      0.175837\n",
              "7     45              0.347      0.320136\n",
              "8     60              0.579      0.509629\n",
              "9     75              0.694      0.696394\n",
              "10    90              0.760      0.835050\n",
              "11   120              0.950      0.961029\n",
              "12   150              0.967      0.991744\n",
              "13   180              0.983      0.998294\n",
              "14   210              0.992      0.999649\n",
              "15   240              1.000      0.999928"
            ],
            "text/html": [
              "\n",
              "  <div id=\"df-302be728-68d8-4bee-b16e-f7ba98a761f4\" class=\"colab-df-container\">\n",
              "    <div>\n",
              "<style scoped>\n",
              "    .dataframe tbody tr th:only-of-type {\n",
              "        vertical-align: middle;\n",
              "    }\n",
              "\n",
              "    .dataframe tbody tr th {\n",
              "        vertical-align: top;\n",
              "    }\n",
              "\n",
              "    .dataframe thead th {\n",
              "        text-align: right;\n",
              "    }\n",
              "</style>\n",
              "<table border=\"1\" class=\"dataframe\">\n",
              "  <thead>\n",
              "    <tr style=\"text-align: right;\">\n",
              "      <th></th>\n",
              "      <th>time</th>\n",
              "      <th>C/Co experimental</th>\n",
              "      <th>C/Co predito</th>\n",
              "    </tr>\n",
              "  </thead>\n",
              "  <tbody>\n",
              "    <tr>\n",
              "      <th>0</th>\n",
              "      <td>0</td>\n",
              "      <td>0.025</td>\n",
              "      <td>0.041961</td>\n",
              "    </tr>\n",
              "    <tr>\n",
              "      <th>1</th>\n",
              "      <td>3</td>\n",
              "      <td>0.041</td>\n",
              "      <td>0.048809</td>\n",
              "    </tr>\n",
              "    <tr>\n",
              "      <th>2</th>\n",
              "      <td>5</td>\n",
              "      <td>0.041</td>\n",
              "      <td>0.053949</td>\n",
              "    </tr>\n",
              "    <tr>\n",
              "      <th>3</th>\n",
              "      <td>10</td>\n",
              "      <td>0.050</td>\n",
              "      <td>0.069115</td>\n",
              "    </tr>\n",
              "    <tr>\n",
              "      <th>4</th>\n",
              "      <td>15</td>\n",
              "      <td>0.074</td>\n",
              "      <td>0.088147</td>\n",
              "    </tr>\n",
              "    <tr>\n",
              "      <th>5</th>\n",
              "      <td>20</td>\n",
              "      <td>0.099</td>\n",
              "      <td>0.111790</td>\n",
              "    </tr>\n",
              "    <tr>\n",
              "      <th>6</th>\n",
              "      <td>30</td>\n",
              "      <td>0.132</td>\n",
              "      <td>0.175837</td>\n",
              "    </tr>\n",
              "    <tr>\n",
              "      <th>7</th>\n",
              "      <td>45</td>\n",
              "      <td>0.347</td>\n",
              "      <td>0.320136</td>\n",
              "    </tr>\n",
              "    <tr>\n",
              "      <th>8</th>\n",
              "      <td>60</td>\n",
              "      <td>0.579</td>\n",
              "      <td>0.509629</td>\n",
              "    </tr>\n",
              "    <tr>\n",
              "      <th>9</th>\n",
              "      <td>75</td>\n",
              "      <td>0.694</td>\n",
              "      <td>0.696394</td>\n",
              "    </tr>\n",
              "    <tr>\n",
              "      <th>10</th>\n",
              "      <td>90</td>\n",
              "      <td>0.760</td>\n",
              "      <td>0.835050</td>\n",
              "    </tr>\n",
              "    <tr>\n",
              "      <th>11</th>\n",
              "      <td>120</td>\n",
              "      <td>0.950</td>\n",
              "      <td>0.961029</td>\n",
              "    </tr>\n",
              "    <tr>\n",
              "      <th>12</th>\n",
              "      <td>150</td>\n",
              "      <td>0.967</td>\n",
              "      <td>0.991744</td>\n",
              "    </tr>\n",
              "    <tr>\n",
              "      <th>13</th>\n",
              "      <td>180</td>\n",
              "      <td>0.983</td>\n",
              "      <td>0.998294</td>\n",
              "    </tr>\n",
              "    <tr>\n",
              "      <th>14</th>\n",
              "      <td>210</td>\n",
              "      <td>0.992</td>\n",
              "      <td>0.999649</td>\n",
              "    </tr>\n",
              "    <tr>\n",
              "      <th>15</th>\n",
              "      <td>240</td>\n",
              "      <td>1.000</td>\n",
              "      <td>0.999928</td>\n",
              "    </tr>\n",
              "  </tbody>\n",
              "</table>\n",
              "</div>\n",
              "    <div class=\"colab-df-buttons\">\n",
              "\n",
              "  <div class=\"colab-df-container\">\n",
              "    <button class=\"colab-df-convert\" onclick=\"convertToInteractive('df-302be728-68d8-4bee-b16e-f7ba98a761f4')\"\n",
              "            title=\"Convert this dataframe to an interactive table.\"\n",
              "            style=\"display:none;\">\n",
              "\n",
              "  <svg xmlns=\"http://www.w3.org/2000/svg\" height=\"24px\" viewBox=\"0 -960 960 960\">\n",
              "    <path d=\"M120-120v-720h720v720H120Zm60-500h600v-160H180v160Zm220 220h160v-160H400v160Zm0 220h160v-160H400v160ZM180-400h160v-160H180v160Zm440 0h160v-160H620v160ZM180-180h160v-160H180v160Zm440 0h160v-160H620v160Z\"/>\n",
              "  </svg>\n",
              "    </button>\n",
              "\n",
              "  <style>\n",
              "    .colab-df-container {\n",
              "      display:flex;\n",
              "      gap: 12px;\n",
              "    }\n",
              "\n",
              "    .colab-df-convert {\n",
              "      background-color: #E8F0FE;\n",
              "      border: none;\n",
              "      border-radius: 50%;\n",
              "      cursor: pointer;\n",
              "      display: none;\n",
              "      fill: #1967D2;\n",
              "      height: 32px;\n",
              "      padding: 0 0 0 0;\n",
              "      width: 32px;\n",
              "    }\n",
              "\n",
              "    .colab-df-convert:hover {\n",
              "      background-color: #E2EBFA;\n",
              "      box-shadow: 0px 1px 2px rgba(60, 64, 67, 0.3), 0px 1px 3px 1px rgba(60, 64, 67, 0.15);\n",
              "      fill: #174EA6;\n",
              "    }\n",
              "\n",
              "    .colab-df-buttons div {\n",
              "      margin-bottom: 4px;\n",
              "    }\n",
              "\n",
              "    [theme=dark] .colab-df-convert {\n",
              "      background-color: #3B4455;\n",
              "      fill: #D2E3FC;\n",
              "    }\n",
              "\n",
              "    [theme=dark] .colab-df-convert:hover {\n",
              "      background-color: #434B5C;\n",
              "      box-shadow: 0px 1px 3px 1px rgba(0, 0, 0, 0.15);\n",
              "      filter: drop-shadow(0px 1px 2px rgba(0, 0, 0, 0.3));\n",
              "      fill: #FFFFFF;\n",
              "    }\n",
              "  </style>\n",
              "\n",
              "    <script>\n",
              "      const buttonEl =\n",
              "        document.querySelector('#df-302be728-68d8-4bee-b16e-f7ba98a761f4 button.colab-df-convert');\n",
              "      buttonEl.style.display =\n",
              "        google.colab.kernel.accessAllowed ? 'block' : 'none';\n",
              "\n",
              "      async function convertToInteractive(key) {\n",
              "        const element = document.querySelector('#df-302be728-68d8-4bee-b16e-f7ba98a761f4');\n",
              "        const dataTable =\n",
              "          await google.colab.kernel.invokeFunction('convertToInteractive',\n",
              "                                                    [key], {});\n",
              "        if (!dataTable) return;\n",
              "\n",
              "        const docLinkHtml = 'Like what you see? Visit the ' +\n",
              "          '<a target=\"_blank\" href=https://colab.research.google.com/notebooks/data_table.ipynb>data table notebook</a>'\n",
              "          + ' to learn more about interactive tables.';\n",
              "        element.innerHTML = '';\n",
              "        dataTable['output_type'] = 'display_data';\n",
              "        await google.colab.output.renderOutput(dataTable, element);\n",
              "        const docLink = document.createElement('div');\n",
              "        docLink.innerHTML = docLinkHtml;\n",
              "        element.appendChild(docLink);\n",
              "      }\n",
              "    </script>\n",
              "  </div>\n",
              "\n",
              "\n",
              "    <div id=\"df-e1b67374-ba48-4b00-b179-d4fc60a7d456\">\n",
              "      <button class=\"colab-df-quickchart\" onclick=\"quickchart('df-e1b67374-ba48-4b00-b179-d4fc60a7d456')\"\n",
              "                title=\"Suggest charts\"\n",
              "                style=\"display:none;\">\n",
              "\n",
              "<svg xmlns=\"http://www.w3.org/2000/svg\" height=\"24px\"viewBox=\"0 0 24 24\"\n",
              "     width=\"24px\">\n",
              "    <g>\n",
              "        <path d=\"M19 3H5c-1.1 0-2 .9-2 2v14c0 1.1.9 2 2 2h14c1.1 0 2-.9 2-2V5c0-1.1-.9-2-2-2zM9 17H7v-7h2v7zm4 0h-2V7h2v10zm4 0h-2v-4h2v4z\"/>\n",
              "    </g>\n",
              "</svg>\n",
              "      </button>\n",
              "\n",
              "<style>\n",
              "  .colab-df-quickchart {\n",
              "      --bg-color: #E8F0FE;\n",
              "      --fill-color: #1967D2;\n",
              "      --hover-bg-color: #E2EBFA;\n",
              "      --hover-fill-color: #174EA6;\n",
              "      --disabled-fill-color: #AAA;\n",
              "      --disabled-bg-color: #DDD;\n",
              "  }\n",
              "\n",
              "  [theme=dark] .colab-df-quickchart {\n",
              "      --bg-color: #3B4455;\n",
              "      --fill-color: #D2E3FC;\n",
              "      --hover-bg-color: #434B5C;\n",
              "      --hover-fill-color: #FFFFFF;\n",
              "      --disabled-bg-color: #3B4455;\n",
              "      --disabled-fill-color: #666;\n",
              "  }\n",
              "\n",
              "  .colab-df-quickchart {\n",
              "    background-color: var(--bg-color);\n",
              "    border: none;\n",
              "    border-radius: 50%;\n",
              "    cursor: pointer;\n",
              "    display: none;\n",
              "    fill: var(--fill-color);\n",
              "    height: 32px;\n",
              "    padding: 0;\n",
              "    width: 32px;\n",
              "  }\n",
              "\n",
              "  .colab-df-quickchart:hover {\n",
              "    background-color: var(--hover-bg-color);\n",
              "    box-shadow: 0 1px 2px rgba(60, 64, 67, 0.3), 0 1px 3px 1px rgba(60, 64, 67, 0.15);\n",
              "    fill: var(--button-hover-fill-color);\n",
              "  }\n",
              "\n",
              "  .colab-df-quickchart-complete:disabled,\n",
              "  .colab-df-quickchart-complete:disabled:hover {\n",
              "    background-color: var(--disabled-bg-color);\n",
              "    fill: var(--disabled-fill-color);\n",
              "    box-shadow: none;\n",
              "  }\n",
              "\n",
              "  .colab-df-spinner {\n",
              "    border: 2px solid var(--fill-color);\n",
              "    border-color: transparent;\n",
              "    border-bottom-color: var(--fill-color);\n",
              "    animation:\n",
              "      spin 1s steps(1) infinite;\n",
              "  }\n",
              "\n",
              "  @keyframes spin {\n",
              "    0% {\n",
              "      border-color: transparent;\n",
              "      border-bottom-color: var(--fill-color);\n",
              "      border-left-color: var(--fill-color);\n",
              "    }\n",
              "    20% {\n",
              "      border-color: transparent;\n",
              "      border-left-color: var(--fill-color);\n",
              "      border-top-color: var(--fill-color);\n",
              "    }\n",
              "    30% {\n",
              "      border-color: transparent;\n",
              "      border-left-color: var(--fill-color);\n",
              "      border-top-color: var(--fill-color);\n",
              "      border-right-color: var(--fill-color);\n",
              "    }\n",
              "    40% {\n",
              "      border-color: transparent;\n",
              "      border-right-color: var(--fill-color);\n",
              "      border-top-color: var(--fill-color);\n",
              "    }\n",
              "    60% {\n",
              "      border-color: transparent;\n",
              "      border-right-color: var(--fill-color);\n",
              "    }\n",
              "    80% {\n",
              "      border-color: transparent;\n",
              "      border-right-color: var(--fill-color);\n",
              "      border-bottom-color: var(--fill-color);\n",
              "    }\n",
              "    90% {\n",
              "      border-color: transparent;\n",
              "      border-bottom-color: var(--fill-color);\n",
              "    }\n",
              "  }\n",
              "</style>\n",
              "\n",
              "      <script>\n",
              "        async function quickchart(key) {\n",
              "          const quickchartButtonEl =\n",
              "            document.querySelector('#' + key + ' button');\n",
              "          quickchartButtonEl.disabled = true;  // To prevent multiple clicks.\n",
              "          quickchartButtonEl.classList.add('colab-df-spinner');\n",
              "          try {\n",
              "            const charts = await google.colab.kernel.invokeFunction(\n",
              "                'suggestCharts', [key], {});\n",
              "          } catch (error) {\n",
              "            console.error('Error during call to suggestCharts:', error);\n",
              "          }\n",
              "          quickchartButtonEl.classList.remove('colab-df-spinner');\n",
              "          quickchartButtonEl.classList.add('colab-df-quickchart-complete');\n",
              "        }\n",
              "        (() => {\n",
              "          let quickchartButtonEl =\n",
              "            document.querySelector('#df-e1b67374-ba48-4b00-b179-d4fc60a7d456 button');\n",
              "          quickchartButtonEl.style.display =\n",
              "            google.colab.kernel.accessAllowed ? 'block' : 'none';\n",
              "        })();\n",
              "      </script>\n",
              "    </div>\n",
              "\n",
              "  <div id=\"id_caad87e7-4330-4935-8b0a-ea083f034ef9\">\n",
              "    <style>\n",
              "      .colab-df-generate {\n",
              "        background-color: #E8F0FE;\n",
              "        border: none;\n",
              "        border-radius: 50%;\n",
              "        cursor: pointer;\n",
              "        display: none;\n",
              "        fill: #1967D2;\n",
              "        height: 32px;\n",
              "        padding: 0 0 0 0;\n",
              "        width: 32px;\n",
              "      }\n",
              "\n",
              "      .colab-df-generate:hover {\n",
              "        background-color: #E2EBFA;\n",
              "        box-shadow: 0px 1px 2px rgba(60, 64, 67, 0.3), 0px 1px 3px 1px rgba(60, 64, 67, 0.15);\n",
              "        fill: #174EA6;\n",
              "      }\n",
              "\n",
              "      [theme=dark] .colab-df-generate {\n",
              "        background-color: #3B4455;\n",
              "        fill: #D2E3FC;\n",
              "      }\n",
              "\n",
              "      [theme=dark] .colab-df-generate:hover {\n",
              "        background-color: #434B5C;\n",
              "        box-shadow: 0px 1px 3px 1px rgba(0, 0, 0, 0.15);\n",
              "        filter: drop-shadow(0px 1px 2px rgba(0, 0, 0, 0.3));\n",
              "        fill: #FFFFFF;\n",
              "      }\n",
              "    </style>\n",
              "    <button class=\"colab-df-generate\" onclick=\"generateWithVariable('df')\"\n",
              "            title=\"Generate code using this dataframe.\"\n",
              "            style=\"display:none;\">\n",
              "\n",
              "  <svg xmlns=\"http://www.w3.org/2000/svg\" height=\"24px\"viewBox=\"0 0 24 24\"\n",
              "       width=\"24px\">\n",
              "    <path d=\"M7,19H8.4L18.45,9,17,7.55,7,17.6ZM5,21V16.75L18.45,3.32a2,2,0,0,1,2.83,0l1.4,1.43a1.91,1.91,0,0,1,.58,1.4,1.91,1.91,0,0,1-.58,1.4L9.25,21ZM18.45,9,17,7.55Zm-12,3A5.31,5.31,0,0,0,4.9,8.1,5.31,5.31,0,0,0,1,6.5,5.31,5.31,0,0,0,4.9,4.9,5.31,5.31,0,0,0,6.5,1,5.31,5.31,0,0,0,8.1,4.9,5.31,5.31,0,0,0,12,6.5,5.46,5.46,0,0,0,6.5,12Z\"/>\n",
              "  </svg>\n",
              "    </button>\n",
              "    <script>\n",
              "      (() => {\n",
              "      const buttonEl =\n",
              "        document.querySelector('#id_caad87e7-4330-4935-8b0a-ea083f034ef9 button.colab-df-generate');\n",
              "      buttonEl.style.display =\n",
              "        google.colab.kernel.accessAllowed ? 'block' : 'none';\n",
              "\n",
              "      buttonEl.onclick = () => {\n",
              "        google.colab.notebook.generateWithVariable('df');\n",
              "      }\n",
              "      })();\n",
              "    </script>\n",
              "  </div>\n",
              "\n",
              "    </div>\n",
              "  </div>\n"
            ],
            "application/vnd.google.colaboratory.intrinsic+json": {
              "type": "dataframe",
              "variable_name": "df",
              "summary": "{\n  \"name\": \"df\",\n  \"rows\": 16,\n  \"fields\": [\n    {\n      \"column\": \"time\",\n      \"properties\": {\n        \"dtype\": \"number\",\n        \"std\": 79,\n        \"min\": 0,\n        \"max\": 240,\n        \"num_unique_values\": 16,\n        \"samples\": [\n          0,\n          3,\n          20\n        ],\n        \"semantic_type\": \"\",\n        \"description\": \"\"\n      }\n    },\n    {\n      \"column\": \"C/Co experimental\",\n      \"properties\": {\n        \"dtype\": \"number\",\n        \"std\": 0.4166208308122226,\n        \"min\": 0.025,\n        \"max\": 1.0,\n        \"num_unique_values\": 15,\n        \"samples\": [\n          0.76,\n          0.967,\n          0.025\n        ],\n        \"semantic_type\": \"\",\n        \"description\": \"\"\n      }\n    },\n    {\n      \"column\": \"C/Co predito\",\n      \"properties\": {\n        \"dtype\": \"number\",\n        \"std\": 0.4169978009654511,\n        \"min\": 0.0419613154091355,\n        \"max\": 0.9999279803897515,\n        \"num_unique_values\": 16,\n        \"samples\": [\n          0.0419613154091355,\n          0.0488086813922265,\n          0.11178994117573901\n        ],\n        \"semantic_type\": \"\",\n        \"description\": \"\"\n      }\n    }\n  ]\n}"
            }
          },
          "metadata": {},
          "execution_count": 14
        }
      ]
    },
    {
      "cell_type": "code",
      "source": [
        "plt.title('Curve fitting\\n',size=14,family='sans-serif',weight='semibold')\n",
        "plt.plot(time,CCo_exp,'k.')\n",
        "plt.plot(time,CCo_pred,'b--')\n",
        "plt.xlabel('\\ntime (min)',size=14,family='serif',weight='normal')\n",
        "plt.ylabel(r'$\\frac{C}{C_{0}}$',size=16,family='serif',weight='normal')\n",
        "plt.grid(alpha=0.70)\n",
        "#plt.xticks(np.arange(0,140,10),family='serif')\n",
        "#plt.yticks(np.arange(0,140,10),family='serif')\n",
        "plt.margins(0.0001,0.05)"
      ],
      "metadata": {
        "colab": {
          "base_uri": "https://localhost:8080/",
          "height": 505
        },
        "id": "pqkgAU50h_B4",
        "outputId": "c2964a70-75c9-4180-a53c-7df9d0104a48"
      },
      "execution_count": null,
      "outputs": [
        {
          "output_type": "display_data",
          "data": {
            "text/plain": [
              "<Figure size 640x480 with 1 Axes>"
            ],
            "image/svg+xml": "<?xml version=\"1.0\" encoding=\"utf-8\" standalone=\"no\"?>\n<!DOCTYPE svg PUBLIC \"-//W3C//DTD SVG 1.1//EN\"\n  \"http://www.w3.org/Graphics/SVG/1.1/DTD/svg11.dtd\">\n<svg xmlns:xlink=\"http://www.w3.org/1999/xlink\" width=\"422.263125pt\" height=\"362.840562pt\" viewBox=\"0 0 422.263125 362.840562\" xmlns=\"http://www.w3.org/2000/svg\" version=\"1.1\">\n <metadata>\n  <rdf:RDF xmlns:dc=\"http://purl.org/dc/elements/1.1/\" xmlns:cc=\"http://creativecommons.org/ns#\" xmlns:rdf=\"http://www.w3.org/1999/02/22-rdf-syntax-ns#\">\n   <cc:Work>\n    <dc:type rdf:resource=\"http://purl.org/dc/dcmitype/StillImage\"/>\n    <dc:date>2025-09-08T18:46:06.521746</dc:date>\n    <dc:format>image/svg+xml</dc:format>\n    <dc:creator>\n     <cc:Agent>\n      <dc:title>Matplotlib v3.10.0, https://matplotlib.org/</dc:title>\n     </cc:Agent>\n    </dc:creator>\n   </cc:Work>\n  </rdf:RDF>\n </metadata>\n <defs>\n  <style type=\"text/css\">*{stroke-linejoin: round; stroke-linecap: butt}</style>\n </defs>\n <g id=\"figure_1\">\n  <g id=\"patch_1\">\n   <path d=\"M 0 362.840562 \nL 422.263125 362.840562 \nL 422.263125 0 \nL 0 0 \nz\n\" style=\"fill: #ffffff\"/>\n  </g>\n  <g id=\"axes_1\">\n   <g id=\"patch_2\">\n    <path d=\"M 57.943125 305.736125 \nL 415.063125 305.736125 \nL 415.063125 39.624125 \nL 57.943125 39.624125 \nz\n\" style=\"fill: #ffffff\"/>\n   </g>\n   <g id=\"matplotlib.axis_1\">\n    <g id=\"xtick_1\">\n     <g id=\"line2d_1\">\n      <path d=\"M 57.97883 305.736125 \nL 57.97883 39.624125 \n\" clip-path=\"url(#pb8907891ac)\" style=\"fill: none; stroke: #b0b0b0; stroke-opacity: 0.7; stroke-width: 0.8; stroke-linecap: square\"/>\n     </g>\n     <g id=\"line2d_2\">\n      <defs>\n       <path id=\"m77a85bda28\" d=\"M 0 0 \nL 0 3.5 \n\" style=\"stroke: #000000; stroke-width: 0.8\"/>\n      </defs>\n      <g>\n       <use xlink:href=\"#m77a85bda28\" x=\"57.97883\" y=\"305.736125\" style=\"stroke: #000000; stroke-width: 0.8\"/>\n      </g>\n     </g>\n     <g id=\"text_1\">\n      <!-- 0 -->\n      <g transform=\"translate(54.79758 320.334562) scale(0.1 -0.1)\">\n       <defs>\n        <path id=\"DejaVuSans-30\" d=\"M 2034 4250 \nQ 1547 4250 1301 3770 \nQ 1056 3291 1056 2328 \nQ 1056 1369 1301 889 \nQ 1547 409 2034 409 \nQ 2525 409 2770 889 \nQ 3016 1369 3016 2328 \nQ 3016 3291 2770 3770 \nQ 2525 4250 2034 4250 \nz\nM 2034 4750 \nQ 2819 4750 3233 4129 \nQ 3647 3509 3647 2328 \nQ 3647 1150 3233 529 \nQ 2819 -91 2034 -91 \nQ 1250 -91 836 529 \nQ 422 1150 422 2328 \nQ 422 3509 836 4129 \nQ 1250 4750 2034 4750 \nz\n\" transform=\"scale(0.015625)\"/>\n       </defs>\n       <use xlink:href=\"#DejaVuSans-30\"/>\n      </g>\n     </g>\n    </g>\n    <g id=\"xtick_2\">\n     <g id=\"line2d_3\">\n      <path d=\"M 132.363953 305.736125 \nL 132.363953 39.624125 \n\" clip-path=\"url(#pb8907891ac)\" style=\"fill: none; stroke: #b0b0b0; stroke-opacity: 0.7; stroke-width: 0.8; stroke-linecap: square\"/>\n     </g>\n     <g id=\"line2d_4\">\n      <g>\n       <use xlink:href=\"#m77a85bda28\" x=\"132.363953\" y=\"305.736125\" style=\"stroke: #000000; stroke-width: 0.8\"/>\n      </g>\n     </g>\n     <g id=\"text_2\">\n      <!-- 50 -->\n      <g transform=\"translate(126.001453 320.334562) scale(0.1 -0.1)\">\n       <defs>\n        <path id=\"DejaVuSans-35\" d=\"M 691 4666 \nL 3169 4666 \nL 3169 4134 \nL 1269 4134 \nL 1269 2991 \nQ 1406 3038 1543 3061 \nQ 1681 3084 1819 3084 \nQ 2600 3084 3056 2656 \nQ 3513 2228 3513 1497 \nQ 3513 744 3044 326 \nQ 2575 -91 1722 -91 \nQ 1428 -91 1123 -41 \nQ 819 9 494 109 \nL 494 744 \nQ 775 591 1075 516 \nQ 1375 441 1709 441 \nQ 2250 441 2565 725 \nQ 2881 1009 2881 1497 \nQ 2881 1984 2565 2268 \nQ 2250 2553 1709 2553 \nQ 1456 2553 1204 2497 \nQ 953 2441 691 2322 \nL 691 4666 \nz\n\" transform=\"scale(0.015625)\"/>\n       </defs>\n       <use xlink:href=\"#DejaVuSans-35\"/>\n       <use xlink:href=\"#DejaVuSans-30\" transform=\"translate(63.623047 0)\"/>\n      </g>\n     </g>\n    </g>\n    <g id=\"xtick_3\">\n     <g id=\"line2d_5\">\n      <path d=\"M 206.749076 305.736125 \nL 206.749076 39.624125 \n\" clip-path=\"url(#pb8907891ac)\" style=\"fill: none; stroke: #b0b0b0; stroke-opacity: 0.7; stroke-width: 0.8; stroke-linecap: square\"/>\n     </g>\n     <g id=\"line2d_6\">\n      <g>\n       <use xlink:href=\"#m77a85bda28\" x=\"206.749076\" y=\"305.736125\" style=\"stroke: #000000; stroke-width: 0.8\"/>\n      </g>\n     </g>\n     <g id=\"text_3\">\n      <!-- 100 -->\n      <g transform=\"translate(197.205326 320.334562) scale(0.1 -0.1)\">\n       <defs>\n        <path id=\"DejaVuSans-31\" d=\"M 794 531 \nL 1825 531 \nL 1825 4091 \nL 703 3866 \nL 703 4441 \nL 1819 4666 \nL 2450 4666 \nL 2450 531 \nL 3481 531 \nL 3481 0 \nL 794 0 \nL 794 531 \nz\n\" transform=\"scale(0.015625)\"/>\n       </defs>\n       <use xlink:href=\"#DejaVuSans-31\"/>\n       <use xlink:href=\"#DejaVuSans-30\" transform=\"translate(63.623047 0)\"/>\n       <use xlink:href=\"#DejaVuSans-30\" transform=\"translate(127.246094 0)\"/>\n      </g>\n     </g>\n    </g>\n    <g id=\"xtick_4\">\n     <g id=\"line2d_7\">\n      <path d=\"M 281.134199 305.736125 \nL 281.134199 39.624125 \n\" clip-path=\"url(#pb8907891ac)\" style=\"fill: none; stroke: #b0b0b0; stroke-opacity: 0.7; stroke-width: 0.8; stroke-linecap: square\"/>\n     </g>\n     <g id=\"line2d_8\">\n      <g>\n       <use xlink:href=\"#m77a85bda28\" x=\"281.134199\" y=\"305.736125\" style=\"stroke: #000000; stroke-width: 0.8\"/>\n      </g>\n     </g>\n     <g id=\"text_4\">\n      <!-- 150 -->\n      <g transform=\"translate(271.590449 320.334562) scale(0.1 -0.1)\">\n       <use xlink:href=\"#DejaVuSans-31\"/>\n       <use xlink:href=\"#DejaVuSans-35\" transform=\"translate(63.623047 0)\"/>\n       <use xlink:href=\"#DejaVuSans-30\" transform=\"translate(127.246094 0)\"/>\n      </g>\n     </g>\n    </g>\n    <g id=\"xtick_5\">\n     <g id=\"line2d_9\">\n      <path d=\"M 355.519322 305.736125 \nL 355.519322 39.624125 \n\" clip-path=\"url(#pb8907891ac)\" style=\"fill: none; stroke: #b0b0b0; stroke-opacity: 0.7; stroke-width: 0.8; stroke-linecap: square\"/>\n     </g>\n     <g id=\"line2d_10\">\n      <g>\n       <use xlink:href=\"#m77a85bda28\" x=\"355.519322\" y=\"305.736125\" style=\"stroke: #000000; stroke-width: 0.8\"/>\n      </g>\n     </g>\n     <g id=\"text_5\">\n      <!-- 200 -->\n      <g transform=\"translate(345.975572 320.334562) scale(0.1 -0.1)\">\n       <defs>\n        <path id=\"DejaVuSans-32\" d=\"M 1228 531 \nL 3431 531 \nL 3431 0 \nL 469 0 \nL 469 531 \nQ 828 903 1448 1529 \nQ 2069 2156 2228 2338 \nQ 2531 2678 2651 2914 \nQ 2772 3150 2772 3378 \nQ 2772 3750 2511 3984 \nQ 2250 4219 1831 4219 \nQ 1534 4219 1204 4116 \nQ 875 4013 500 3803 \nL 500 4441 \nQ 881 4594 1212 4672 \nQ 1544 4750 1819 4750 \nQ 2544 4750 2975 4387 \nQ 3406 4025 3406 3419 \nQ 3406 3131 3298 2873 \nQ 3191 2616 2906 2266 \nQ 2828 2175 2409 1742 \nQ 1991 1309 1228 531 \nz\n\" transform=\"scale(0.015625)\"/>\n       </defs>\n       <use xlink:href=\"#DejaVuSans-32\"/>\n       <use xlink:href=\"#DejaVuSans-30\" transform=\"translate(63.623047 0)\"/>\n       <use xlink:href=\"#DejaVuSans-30\" transform=\"translate(127.246094 0)\"/>\n      </g>\n     </g>\n    </g>\n    <g id=\"text_6\">\n     <!--  -->\n     <g transform=\"translate(236.503125 337.052062) scale(0.14 -0.14)\"/>\n     <!-- time (min) -->\n     <g transform=\"translate(199.597813 352.729) scale(0.14 -0.14)\">\n      <defs>\n       <path id=\"DejaVuSerif-74\" d=\"M 691 2988 \nL 184 2988 \nL 184 3322 \nL 691 3322 \nL 691 4353 \nL 1269 4353 \nL 1269 3322 \nL 2350 3322 \nL 2350 2988 \nL 1269 2988 \nL 1269 878 \nQ 1269 456 1350 337 \nQ 1431 219 1650 219 \nQ 1875 219 1978 351 \nQ 2081 484 2088 781 \nL 2522 781 \nQ 2497 328 2275 118 \nQ 2053 -91 1600 -91 \nQ 1103 -91 897 129 \nQ 691 350 691 878 \nL 691 2988 \nz\n\" transform=\"scale(0.015625)\"/>\n       <path id=\"DejaVuSerif-69\" d=\"M 622 4353 \nQ 622 4497 726 4603 \nQ 831 4709 978 4709 \nQ 1122 4709 1226 4603 \nQ 1331 4497 1331 4353 \nQ 1331 4206 1228 4103 \nQ 1125 4000 978 4000 \nQ 831 4000 726 4103 \nQ 622 4206 622 4353 \nz\nM 1356 331 \nL 1900 331 \nL 1900 0 \nL 231 0 \nL 231 331 \nL 781 331 \nL 781 2988 \nL 231 2988 \nL 231 3322 \nL 1356 3322 \nL 1356 331 \nz\n\" transform=\"scale(0.015625)\"/>\n       <path id=\"DejaVuSerif-6d\" d=\"M 3316 2675 \nQ 3481 3041 3739 3227 \nQ 3997 3413 4341 3413 \nQ 4863 3413 5119 3089 \nQ 5375 2766 5375 2113 \nL 5375 331 \nL 5894 331 \nL 5894 0 \nL 4300 0 \nL 4300 331 \nL 4800 331 \nL 4800 2047 \nQ 4800 2556 4650 2772 \nQ 4500 2988 4153 2988 \nQ 3769 2988 3567 2697 \nQ 3366 2406 3366 1850 \nL 3366 331 \nL 3866 331 \nL 3866 0 \nL 2291 0 \nL 2291 331 \nL 2791 331 \nL 2791 2069 \nQ 2791 2566 2641 2777 \nQ 2491 2988 2144 2988 \nQ 1759 2988 1557 2697 \nQ 1356 2406 1356 1850 \nL 1356 331 \nL 1856 331 \nL 1856 0 \nL 263 0 \nL 263 331 \nL 781 331 \nL 781 2994 \nL 231 2994 \nL 231 3322 \nL 1356 3322 \nL 1356 2731 \nQ 1516 3063 1762 3238 \nQ 2009 3413 2322 3413 \nQ 2709 3413 2968 3220 \nQ 3228 3028 3316 2675 \nz\n\" transform=\"scale(0.015625)\"/>\n       <path id=\"DejaVuSerif-65\" d=\"M 3469 1600 \nL 991 1600 \nL 991 1575 \nQ 991 903 1244 561 \nQ 1497 219 1991 219 \nQ 2369 219 2611 417 \nQ 2853 616 2950 1006 \nL 3413 1006 \nQ 3275 459 2904 184 \nQ 2534 -91 1931 -91 \nQ 1203 -91 761 389 \nQ 319 869 319 1663 \nQ 319 2450 753 2931 \nQ 1188 3413 1894 3413 \nQ 2647 3413 3050 2948 \nQ 3453 2484 3469 1600 \nz\nM 2791 1931 \nQ 2772 2513 2545 2808 \nQ 2319 3103 1894 3103 \nQ 1497 3103 1269 2806 \nQ 1041 2509 991 1931 \nL 2791 1931 \nz\n\" transform=\"scale(0.015625)\"/>\n       <path id=\"DejaVuSerif-20\" transform=\"scale(0.015625)\"/>\n       <path id=\"DejaVuSerif-28\" d=\"M 2041 -997 \nQ 1281 -656 893 83 \nQ 506 822 506 1931 \nQ 506 3044 893 3783 \nQ 1281 4522 2041 4863 \nL 2041 4556 \nQ 1559 4225 1350 3623 \nQ 1141 3022 1141 1931 \nQ 1141 844 1350 242 \nQ 1559 -359 2041 -691 \nL 2041 -997 \nz\n\" transform=\"scale(0.015625)\"/>\n       <path id=\"DejaVuSerif-6e\" d=\"M 263 0 \nL 263 331 \nL 781 331 \nL 781 2988 \nL 231 2988 \nL 231 3322 \nL 1356 3322 \nL 1356 2731 \nQ 1516 3069 1770 3241 \nQ 2025 3413 2363 3413 \nQ 2913 3413 3172 3097 \nQ 3431 2781 3431 2113 \nL 3431 331 \nL 3944 331 \nL 3944 0 \nL 2356 0 \nL 2356 331 \nL 2853 331 \nL 2853 1931 \nQ 2853 2541 2703 2767 \nQ 2553 2994 2175 2994 \nQ 1775 2994 1565 2701 \nQ 1356 2409 1356 1850 \nL 1356 331 \nL 1856 331 \nL 1856 0 \nL 263 0 \nz\n\" transform=\"scale(0.015625)\"/>\n       <path id=\"DejaVuSerif-29\" d=\"M 453 -997 \nL 453 -691 \nQ 934 -359 1145 242 \nQ 1356 844 1356 1931 \nQ 1356 3022 1145 3623 \nQ 934 4225 453 4556 \nL 453 4863 \nQ 1216 4522 1603 3783 \nQ 1991 3044 1991 1931 \nQ 1991 822 1603 83 \nQ 1216 -656 453 -997 \nz\n\" transform=\"scale(0.015625)\"/>\n      </defs>\n      <use xlink:href=\"#DejaVuSerif-74\"/>\n      <use xlink:href=\"#DejaVuSerif-69\" transform=\"translate(40.185547 0)\"/>\n      <use xlink:href=\"#DejaVuSerif-6d\" transform=\"translate(72.167969 0)\"/>\n      <use xlink:href=\"#DejaVuSerif-65\" transform=\"translate(166.992188 0)\"/>\n      <use xlink:href=\"#DejaVuSerif-20\" transform=\"translate(226.171875 0)\"/>\n      <use xlink:href=\"#DejaVuSerif-28\" transform=\"translate(257.958984 0)\"/>\n      <use xlink:href=\"#DejaVuSerif-6d\" transform=\"translate(296.972656 0)\"/>\n      <use xlink:href=\"#DejaVuSerif-69\" transform=\"translate(391.796875 0)\"/>\n      <use xlink:href=\"#DejaVuSerif-6e\" transform=\"translate(423.779297 0)\"/>\n      <use xlink:href=\"#DejaVuSerif-29\" transform=\"translate(488.183594 0)\"/>\n     </g>\n    </g>\n   </g>\n   <g id=\"matplotlib.axis_2\">\n    <g id=\"ytick_1\">\n     <g id=\"line2d_11\">\n      <path d=\"M 57.943125 299.843202 \nL 415.063125 299.843202 \n\" clip-path=\"url(#pb8907891ac)\" style=\"fill: none; stroke: #b0b0b0; stroke-opacity: 0.7; stroke-width: 0.8; stroke-linecap: square\"/>\n     </g>\n     <g id=\"line2d_12\">\n      <defs>\n       <path id=\"me01838882a\" d=\"M 0 0 \nL -3.5 0 \n\" style=\"stroke: #000000; stroke-width: 0.8\"/>\n      </defs>\n      <g>\n       <use xlink:href=\"#me01838882a\" x=\"57.943125\" y=\"299.843202\" style=\"stroke: #000000; stroke-width: 0.8\"/>\n      </g>\n     </g>\n     <g id=\"text_7\">\n      <!-- 0.0 -->\n      <g transform=\"translate(35.04 303.642421) scale(0.1 -0.1)\">\n       <defs>\n        <path id=\"DejaVuSans-2e\" d=\"M 684 794 \nL 1344 794 \nL 1344 0 \nL 684 0 \nL 684 794 \nz\n\" transform=\"scale(0.015625)\"/>\n       </defs>\n       <use xlink:href=\"#DejaVuSans-30\"/>\n       <use xlink:href=\"#DejaVuSans-2e\" transform=\"translate(63.623047 0)\"/>\n       <use xlink:href=\"#DejaVuSans-30\" transform=\"translate(95.410156 0)\"/>\n      </g>\n     </g>\n    </g>\n    <g id=\"ytick_2\">\n     <g id=\"line2d_13\">\n      <path d=\"M 57.943125 250.218587 \nL 415.063125 250.218587 \n\" clip-path=\"url(#pb8907891ac)\" style=\"fill: none; stroke: #b0b0b0; stroke-opacity: 0.7; stroke-width: 0.8; stroke-linecap: square\"/>\n     </g>\n     <g id=\"line2d_14\">\n      <g>\n       <use xlink:href=\"#me01838882a\" x=\"57.943125\" y=\"250.218587\" style=\"stroke: #000000; stroke-width: 0.8\"/>\n      </g>\n     </g>\n     <g id=\"text_8\">\n      <!-- 0.2 -->\n      <g transform=\"translate(35.04 254.017805) scale(0.1 -0.1)\">\n       <use xlink:href=\"#DejaVuSans-30\"/>\n       <use xlink:href=\"#DejaVuSans-2e\" transform=\"translate(63.623047 0)\"/>\n       <use xlink:href=\"#DejaVuSans-32\" transform=\"translate(95.410156 0)\"/>\n      </g>\n     </g>\n    </g>\n    <g id=\"ytick_3\">\n     <g id=\"line2d_15\">\n      <path d=\"M 57.943125 200.593971 \nL 415.063125 200.593971 \n\" clip-path=\"url(#pb8907891ac)\" style=\"fill: none; stroke: #b0b0b0; stroke-opacity: 0.7; stroke-width: 0.8; stroke-linecap: square\"/>\n     </g>\n     <g id=\"line2d_16\">\n      <g>\n       <use xlink:href=\"#me01838882a\" x=\"57.943125\" y=\"200.593971\" style=\"stroke: #000000; stroke-width: 0.8\"/>\n      </g>\n     </g>\n     <g id=\"text_9\">\n      <!-- 0.4 -->\n      <g transform=\"translate(35.04 204.39319) scale(0.1 -0.1)\">\n       <defs>\n        <path id=\"DejaVuSans-34\" d=\"M 2419 4116 \nL 825 1625 \nL 2419 1625 \nL 2419 4116 \nz\nM 2253 4666 \nL 3047 4666 \nL 3047 1625 \nL 3713 1625 \nL 3713 1100 \nL 3047 1100 \nL 3047 0 \nL 2419 0 \nL 2419 1100 \nL 313 1100 \nL 313 1709 \nL 2253 4666 \nz\n\" transform=\"scale(0.015625)\"/>\n       </defs>\n       <use xlink:href=\"#DejaVuSans-30\"/>\n       <use xlink:href=\"#DejaVuSans-2e\" transform=\"translate(63.623047 0)\"/>\n       <use xlink:href=\"#DejaVuSans-34\" transform=\"translate(95.410156 0)\"/>\n      </g>\n     </g>\n    </g>\n    <g id=\"ytick_4\">\n     <g id=\"line2d_17\">\n      <path d=\"M 57.943125 150.969356 \nL 415.063125 150.969356 \n\" clip-path=\"url(#pb8907891ac)\" style=\"fill: none; stroke: #b0b0b0; stroke-opacity: 0.7; stroke-width: 0.8; stroke-linecap: square\"/>\n     </g>\n     <g id=\"line2d_18\">\n      <g>\n       <use xlink:href=\"#me01838882a\" x=\"57.943125\" y=\"150.969356\" style=\"stroke: #000000; stroke-width: 0.8\"/>\n      </g>\n     </g>\n     <g id=\"text_10\">\n      <!-- 0.6 -->\n      <g transform=\"translate(35.04 154.768575) scale(0.1 -0.1)\">\n       <defs>\n        <path id=\"DejaVuSans-36\" d=\"M 2113 2584 \nQ 1688 2584 1439 2293 \nQ 1191 2003 1191 1497 \nQ 1191 994 1439 701 \nQ 1688 409 2113 409 \nQ 2538 409 2786 701 \nQ 3034 994 3034 1497 \nQ 3034 2003 2786 2293 \nQ 2538 2584 2113 2584 \nz\nM 3366 4563 \nL 3366 3988 \nQ 3128 4100 2886 4159 \nQ 2644 4219 2406 4219 \nQ 1781 4219 1451 3797 \nQ 1122 3375 1075 2522 \nQ 1259 2794 1537 2939 \nQ 1816 3084 2150 3084 \nQ 2853 3084 3261 2657 \nQ 3669 2231 3669 1497 \nQ 3669 778 3244 343 \nQ 2819 -91 2113 -91 \nQ 1303 -91 875 529 \nQ 447 1150 447 2328 \nQ 447 3434 972 4092 \nQ 1497 4750 2381 4750 \nQ 2619 4750 2861 4703 \nQ 3103 4656 3366 4563 \nz\n\" transform=\"scale(0.015625)\"/>\n       </defs>\n       <use xlink:href=\"#DejaVuSans-30\"/>\n       <use xlink:href=\"#DejaVuSans-2e\" transform=\"translate(63.623047 0)\"/>\n       <use xlink:href=\"#DejaVuSans-36\" transform=\"translate(95.410156 0)\"/>\n      </g>\n     </g>\n    </g>\n    <g id=\"ytick_5\">\n     <g id=\"line2d_19\">\n      <path d=\"M 57.943125 101.34474 \nL 415.063125 101.34474 \n\" clip-path=\"url(#pb8907891ac)\" style=\"fill: none; stroke: #b0b0b0; stroke-opacity: 0.7; stroke-width: 0.8; stroke-linecap: square\"/>\n     </g>\n     <g id=\"line2d_20\">\n      <g>\n       <use xlink:href=\"#me01838882a\" x=\"57.943125\" y=\"101.34474\" style=\"stroke: #000000; stroke-width: 0.8\"/>\n      </g>\n     </g>\n     <g id=\"text_11\">\n      <!-- 0.8 -->\n      <g transform=\"translate(35.04 105.143959) scale(0.1 -0.1)\">\n       <defs>\n        <path id=\"DejaVuSans-38\" d=\"M 2034 2216 \nQ 1584 2216 1326 1975 \nQ 1069 1734 1069 1313 \nQ 1069 891 1326 650 \nQ 1584 409 2034 409 \nQ 2484 409 2743 651 \nQ 3003 894 3003 1313 \nQ 3003 1734 2745 1975 \nQ 2488 2216 2034 2216 \nz\nM 1403 2484 \nQ 997 2584 770 2862 \nQ 544 3141 544 3541 \nQ 544 4100 942 4425 \nQ 1341 4750 2034 4750 \nQ 2731 4750 3128 4425 \nQ 3525 4100 3525 3541 \nQ 3525 3141 3298 2862 \nQ 3072 2584 2669 2484 \nQ 3125 2378 3379 2068 \nQ 3634 1759 3634 1313 \nQ 3634 634 3220 271 \nQ 2806 -91 2034 -91 \nQ 1263 -91 848 271 \nQ 434 634 434 1313 \nQ 434 1759 690 2068 \nQ 947 2378 1403 2484 \nz\nM 1172 3481 \nQ 1172 3119 1398 2916 \nQ 1625 2713 2034 2713 \nQ 2441 2713 2670 2916 \nQ 2900 3119 2900 3481 \nQ 2900 3844 2670 4047 \nQ 2441 4250 2034 4250 \nQ 1625 4250 1398 4047 \nQ 1172 3844 1172 3481 \nz\n\" transform=\"scale(0.015625)\"/>\n       </defs>\n       <use xlink:href=\"#DejaVuSans-30\"/>\n       <use xlink:href=\"#DejaVuSans-2e\" transform=\"translate(63.623047 0)\"/>\n       <use xlink:href=\"#DejaVuSans-38\" transform=\"translate(95.410156 0)\"/>\n      </g>\n     </g>\n    </g>\n    <g id=\"ytick_6\">\n     <g id=\"line2d_21\">\n      <path d=\"M 57.943125 51.720125 \nL 415.063125 51.720125 \n\" clip-path=\"url(#pb8907891ac)\" style=\"fill: none; stroke: #b0b0b0; stroke-opacity: 0.7; stroke-width: 0.8; stroke-linecap: square\"/>\n     </g>\n     <g id=\"line2d_22\">\n      <g>\n       <use xlink:href=\"#me01838882a\" x=\"57.943125\" y=\"51.720125\" style=\"stroke: #000000; stroke-width: 0.8\"/>\n      </g>\n     </g>\n     <g id=\"text_12\">\n      <!-- 1.0 -->\n      <g transform=\"translate(35.04 55.519344) scale(0.1 -0.1)\">\n       <use xlink:href=\"#DejaVuSans-31\"/>\n       <use xlink:href=\"#DejaVuSans-2e\" transform=\"translate(63.623047 0)\"/>\n       <use xlink:href=\"#DejaVuSans-30\" transform=\"translate(95.410156 0)\"/>\n      </g>\n     </g>\n    </g>\n    <g id=\"text_13\">\n     <!-- $\\frac{C}{C_{0}}$ -->\n     <g transform=\"translate(22.72 180.280125) rotate(-90) scale(0.16 -0.16)\">\n      <defs>\n       <path id=\"DejaVuSans-Oblique-43\" d=\"M 4447 4306 \nL 4319 3641 \nQ 4019 3944 3683 4091 \nQ 3347 4238 2956 4238 \nQ 2422 4238 2017 3981 \nQ 1613 3725 1319 3200 \nQ 1131 2863 1032 2486 \nQ 934 2109 934 1728 \nQ 934 1091 1264 756 \nQ 1594 422 2222 422 \nQ 2656 422 3056 561 \nQ 3456 700 3834 978 \nL 3688 231 \nQ 3316 72 2936 -9 \nQ 2556 -91 2175 -91 \nQ 1278 -91 773 396 \nQ 269 884 269 1753 \nQ 269 2309 461 2846 \nQ 653 3384 1013 3828 \nQ 1394 4300 1883 4525 \nQ 2372 4750 3022 4750 \nQ 3422 4750 3780 4639 \nQ 4138 4528 4447 4306 \nz\n\" transform=\"scale(0.015625)\"/>\n      </defs>\n      <use xlink:href=\"#DejaVuSans-Oblique-43\" transform=\"translate(17 45.046875) scale(0.7)\"/>\n      <use xlink:href=\"#DejaVuSans-Oblique-43\" transform=\"translate(0 -39.151563) scale(0.7)\"/>\n      <use xlink:href=\"#DejaVuSans-30\" transform=\"translate(48.876953 -50.635938) scale(0.49)\"/>\n      <path d=\"M 0 19.051563 \nL 0 25.301563 \nL 81.966309 25.301563 \nL 81.966309 19.051563 \nL 0 19.051563 \nz\n\"/>\n     </g>\n    </g>\n   </g>\n   <g id=\"line2d_23\">\n    <defs>\n     <path id=\"m067b551249\" d=\"M 0 1.5 \nC 0.397805 1.5 0.77937 1.341951 1.06066 1.06066 \nC 1.341951 0.77937 1.5 0.397805 1.5 0 \nC 1.5 -0.397805 1.341951 -0.77937 1.06066 -1.06066 \nC 0.77937 -1.341951 0.397805 -1.5 0 -1.5 \nC -0.397805 -1.5 -0.77937 -1.341951 -1.06066 -1.06066 \nC -1.341951 -0.77937 -1.5 -0.397805 -1.5 0 \nC -1.5 0.397805 -1.341951 0.77937 -1.06066 1.06066 \nC -0.77937 1.341951 -0.397805 1.5 0 1.5 \nz\n\" style=\"stroke: #000000\"/>\n    </defs>\n    <g clip-path=\"url(#pb8907891ac)\">\n     <use xlink:href=\"#m067b551249\" x=\"57.97883\" y=\"293.640125\" style=\"stroke: #000000\"/>\n     <use xlink:href=\"#m067b551249\" x=\"62.441937\" y=\"289.670156\" style=\"stroke: #000000\"/>\n     <use xlink:href=\"#m067b551249\" x=\"65.417342\" y=\"289.670156\" style=\"stroke: #000000\"/>\n     <use xlink:href=\"#m067b551249\" x=\"72.855854\" y=\"287.437048\" style=\"stroke: #000000\"/>\n     <use xlink:href=\"#m067b551249\" x=\"80.294367\" y=\"281.482094\" style=\"stroke: #000000\"/>\n     <use xlink:href=\"#m067b551249\" x=\"87.732879\" y=\"275.279017\" style=\"stroke: #000000\"/>\n     <use xlink:href=\"#m067b551249\" x=\"102.609904\" y=\"267.090956\" style=\"stroke: #000000\"/>\n     <use xlink:href=\"#m067b551249\" x=\"124.925441\" y=\"213.744494\" style=\"stroke: #000000\"/>\n     <use xlink:href=\"#m067b551249\" x=\"147.240977\" y=\"156.17994\" style=\"stroke: #000000\"/>\n     <use xlink:href=\"#m067b551249\" x=\"169.556514\" y=\"127.645787\" style=\"stroke: #000000\"/>\n     <use xlink:href=\"#m067b551249\" x=\"191.872051\" y=\"111.269663\" style=\"stroke: #000000\"/>\n     <use xlink:href=\"#m067b551249\" x=\"236.503125\" y=\"64.126279\" style=\"stroke: #000000\"/>\n     <use xlink:href=\"#m067b551249\" x=\"281.134199\" y=\"59.908187\" style=\"stroke: #000000\"/>\n     <use xlink:href=\"#m067b551249\" x=\"325.765273\" y=\"55.938217\" style=\"stroke: #000000\"/>\n     <use xlink:href=\"#m067b551249\" x=\"370.396346\" y=\"53.70511\" style=\"stroke: #000000\"/>\n     <use xlink:href=\"#m067b551249\" x=\"415.02742\" y=\"51.720125\" style=\"stroke: #000000\"/>\n    </g>\n   </g>\n   <g id=\"line2d_24\">\n    <path d=\"M 57.97883 289.431631 \nL 62.441937 287.732642 \nL 65.417342 286.457139 \nL 72.855854 282.694166 \nL 80.294367 277.971939 \nL 87.732879 272.105538 \nL 102.609904 256.213953 \nL 124.925441 220.409972 \nL 147.240977 173.392533 \nL 169.556514 127.051768 \nL 191.872051 92.647999 \nL 236.503125 61.389792 \nL 281.134199 53.768659 \nL 325.765273 52.143447 \nL 370.396346 51.807147 \nL 415.02742 51.737995 \n\" clip-path=\"url(#pb8907891ac)\" style=\"fill: none; stroke-dasharray: 5.55,2.4; stroke-dashoffset: 0; stroke: #0000ff; stroke-width: 1.5\"/>\n   </g>\n   <g id=\"patch_3\">\n    <path d=\"M 57.943125 305.736125 \nL 57.943125 39.624125 \n\" style=\"fill: none; stroke: #000000; stroke-width: 0.8; stroke-linejoin: miter; stroke-linecap: square\"/>\n   </g>\n   <g id=\"patch_4\">\n    <path d=\"M 415.063125 305.736125 \nL 415.063125 39.624125 \n\" style=\"fill: none; stroke: #000000; stroke-width: 0.8; stroke-linejoin: miter; stroke-linecap: square\"/>\n   </g>\n   <g id=\"patch_5\">\n    <path d=\"M 57.943125 305.736125 \nL 415.063125 305.736125 \n\" style=\"fill: none; stroke: #000000; stroke-width: 0.8; stroke-linejoin: miter; stroke-linecap: square\"/>\n   </g>\n   <g id=\"patch_6\">\n    <path d=\"M 57.943125 39.624125 \nL 415.063125 39.624125 \n\" style=\"fill: none; stroke: #000000; stroke-width: 0.8; stroke-linejoin: miter; stroke-linecap: square\"/>\n   </g>\n   <g id=\"text_14\">\n    <!-- Curve fitting -->\n    <g transform=\"translate(186.653281 17.837812) scale(0.14 -0.14)\">\n     <defs>\n      <path id=\"DejaVuSans-Bold-43\" d=\"M 4288 256 \nQ 3956 84 3597 -3 \nQ 3238 -91 2847 -91 \nQ 1681 -91 1000 561 \nQ 319 1213 319 2328 \nQ 319 3447 1000 4098 \nQ 1681 4750 2847 4750 \nQ 3238 4750 3597 4662 \nQ 3956 4575 4288 4403 \nL 4288 3438 \nQ 3953 3666 3628 3772 \nQ 3303 3878 2944 3878 \nQ 2300 3878 1931 3465 \nQ 1563 3053 1563 2328 \nQ 1563 1606 1931 1193 \nQ 2300 781 2944 781 \nQ 3303 781 3628 887 \nQ 3953 994 4288 1222 \nL 4288 256 \nz\n\" transform=\"scale(0.015625)\"/>\n      <path id=\"DejaVuSans-Bold-75\" d=\"M 500 1363 \nL 500 3500 \nL 1625 3500 \nL 1625 3150 \nQ 1625 2866 1622 2436 \nQ 1619 2006 1619 1863 \nQ 1619 1441 1641 1255 \nQ 1663 1069 1716 984 \nQ 1784 875 1895 815 \nQ 2006 756 2150 756 \nQ 2500 756 2700 1025 \nQ 2900 1294 2900 1772 \nL 2900 3500 \nL 4019 3500 \nL 4019 0 \nL 2900 0 \nL 2900 506 \nQ 2647 200 2364 54 \nQ 2081 -91 1741 -91 \nQ 1134 -91 817 281 \nQ 500 653 500 1363 \nz\n\" transform=\"scale(0.015625)\"/>\n      <path id=\"DejaVuSans-Bold-72\" d=\"M 3138 2547 \nQ 2991 2616 2845 2648 \nQ 2700 2681 2553 2681 \nQ 2122 2681 1889 2404 \nQ 1656 2128 1656 1613 \nL 1656 0 \nL 538 0 \nL 538 3500 \nL 1656 3500 \nL 1656 2925 \nQ 1872 3269 2151 3426 \nQ 2431 3584 2822 3584 \nQ 2878 3584 2943 3579 \nQ 3009 3575 3134 3559 \nL 3138 2547 \nz\n\" transform=\"scale(0.015625)\"/>\n      <path id=\"DejaVuSans-Bold-76\" d=\"M 97 3500 \nL 1216 3500 \nL 2088 1081 \nL 2956 3500 \nL 4078 3500 \nL 2700 0 \nL 1472 0 \nL 97 3500 \nz\n\" transform=\"scale(0.015625)\"/>\n      <path id=\"DejaVuSans-Bold-65\" d=\"M 4031 1759 \nL 4031 1441 \nL 1416 1441 \nQ 1456 1047 1700 850 \nQ 1944 653 2381 653 \nQ 2734 653 3104 758 \nQ 3475 863 3866 1075 \nL 3866 213 \nQ 3469 63 3072 -14 \nQ 2675 -91 2278 -91 \nQ 1328 -91 801 392 \nQ 275 875 275 1747 \nQ 275 2603 792 3093 \nQ 1309 3584 2216 3584 \nQ 3041 3584 3536 3087 \nQ 4031 2591 4031 1759 \nz\nM 2881 2131 \nQ 2881 2450 2695 2645 \nQ 2509 2841 2209 2841 \nQ 1884 2841 1681 2658 \nQ 1478 2475 1428 2131 \nL 2881 2131 \nz\n\" transform=\"scale(0.015625)\"/>\n      <path id=\"DejaVuSans-Bold-20\" transform=\"scale(0.015625)\"/>\n      <path id=\"DejaVuSans-Bold-66\" d=\"M 2841 4863 \nL 2841 4128 \nL 2222 4128 \nQ 1984 4128 1890 4042 \nQ 1797 3956 1797 3744 \nL 1797 3500 \nL 2753 3500 \nL 2753 2700 \nL 1797 2700 \nL 1797 0 \nL 678 0 \nL 678 2700 \nL 122 2700 \nL 122 3500 \nL 678 3500 \nL 678 3744 \nQ 678 4316 997 4589 \nQ 1316 4863 1984 4863 \nL 2841 4863 \nz\n\" transform=\"scale(0.015625)\"/>\n      <path id=\"DejaVuSans-Bold-69\" d=\"M 538 3500 \nL 1656 3500 \nL 1656 0 \nL 538 0 \nL 538 3500 \nz\nM 538 4863 \nL 1656 4863 \nL 1656 3950 \nL 538 3950 \nL 538 4863 \nz\n\" transform=\"scale(0.015625)\"/>\n      <path id=\"DejaVuSans-Bold-74\" d=\"M 1759 4494 \nL 1759 3500 \nL 2913 3500 \nL 2913 2700 \nL 1759 2700 \nL 1759 1216 \nQ 1759 972 1856 886 \nQ 1953 800 2241 800 \nL 2816 800 \nL 2816 0 \nL 1856 0 \nQ 1194 0 917 276 \nQ 641 553 641 1216 \nL 641 2700 \nL 84 2700 \nL 84 3500 \nL 641 3500 \nL 641 4494 \nL 1759 4494 \nz\n\" transform=\"scale(0.015625)\"/>\n      <path id=\"DejaVuSans-Bold-6e\" d=\"M 4056 2131 \nL 4056 0 \nL 2931 0 \nL 2931 347 \nL 2931 1631 \nQ 2931 2084 2911 2256 \nQ 2891 2428 2841 2509 \nQ 2775 2619 2662 2680 \nQ 2550 2741 2406 2741 \nQ 2056 2741 1856 2470 \nQ 1656 2200 1656 1722 \nL 1656 0 \nL 538 0 \nL 538 3500 \nL 1656 3500 \nL 1656 2988 \nQ 1909 3294 2193 3439 \nQ 2478 3584 2822 3584 \nQ 3428 3584 3742 3212 \nQ 4056 2841 4056 2131 \nz\n\" transform=\"scale(0.015625)\"/>\n      <path id=\"DejaVuSans-Bold-67\" d=\"M 2919 594 \nQ 2688 288 2409 144 \nQ 2131 0 1766 0 \nQ 1125 0 706 504 \nQ 288 1009 288 1791 \nQ 288 2575 706 3076 \nQ 1125 3578 1766 3578 \nQ 2131 3578 2409 3434 \nQ 2688 3291 2919 2981 \nL 2919 3500 \nL 4044 3500 \nL 4044 353 \nQ 4044 -491 3511 -936 \nQ 2978 -1381 1966 -1381 \nQ 1638 -1381 1331 -1331 \nQ 1025 -1281 716 -1178 \nL 716 -306 \nQ 1009 -475 1290 -558 \nQ 1572 -641 1856 -641 \nQ 2406 -641 2662 -400 \nQ 2919 -159 2919 353 \nL 2919 594 \nz\nM 2181 2772 \nQ 1834 2772 1640 2515 \nQ 1447 2259 1447 1791 \nQ 1447 1309 1634 1061 \nQ 1822 813 2181 813 \nQ 2531 813 2725 1069 \nQ 2919 1325 2919 1791 \nQ 2919 2259 2725 2515 \nQ 2531 2772 2181 2772 \nz\n\" transform=\"scale(0.015625)\"/>\n     </defs>\n     <use xlink:href=\"#DejaVuSans-Bold-43\"/>\n     <use xlink:href=\"#DejaVuSans-Bold-75\" transform=\"translate(73.388672 0)\"/>\n     <use xlink:href=\"#DejaVuSans-Bold-72\" transform=\"translate(144.580078 0)\"/>\n     <use xlink:href=\"#DejaVuSans-Bold-76\" transform=\"translate(193.896484 0)\"/>\n     <use xlink:href=\"#DejaVuSans-Bold-65\" transform=\"translate(259.082031 0)\"/>\n     <use xlink:href=\"#DejaVuSans-Bold-20\" transform=\"translate(326.904297 0)\"/>\n     <use xlink:href=\"#DejaVuSans-Bold-66\" transform=\"translate(361.71875 0)\"/>\n     <use xlink:href=\"#DejaVuSans-Bold-69\" transform=\"translate(405.224609 0)\"/>\n     <use xlink:href=\"#DejaVuSans-Bold-74\" transform=\"translate(439.501953 0)\"/>\n     <use xlink:href=\"#DejaVuSans-Bold-74\" transform=\"translate(487.304688 0)\"/>\n     <use xlink:href=\"#DejaVuSans-Bold-69\" transform=\"translate(535.107422 0)\"/>\n     <use xlink:href=\"#DejaVuSans-Bold-6e\" transform=\"translate(569.384766 0)\"/>\n     <use xlink:href=\"#DejaVuSans-Bold-67\" transform=\"translate(640.576172 0)\"/>\n    </g>\n    <!--  -->\n    <g transform=\"translate(236.503125 33.624125) scale(0.14 -0.14)\"/>\n   </g>\n  </g>\n </g>\n <defs>\n  <clipPath id=\"pb8907891ac\">\n   <rect x=\"57.943125\" y=\"39.624125\" width=\"357.12\" height=\"266.112\"/>\n  </clipPath>\n </defs>\n</svg>\n"
          },
          "metadata": {}
        }
      ]
    }
  ]
}